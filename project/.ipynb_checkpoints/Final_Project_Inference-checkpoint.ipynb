{
 "cells": [
  {
   "cell_type": "code",
   "execution_count": 1,
   "metadata": {},
   "outputs": [],
   "source": [
    "%matplotlib inline\n",
    "import pyodbc\n",
    "import pandas as pd\n",
    "import numpy as np\n",
    "import matplotlib.pyplot as plt \n",
    "import sys\n",
    "#sys.path.append(\"..\") # Adds higher directory to python modules path.  \n",
    "import seaborn as sns\n",
    "import os.path\n",
    "from scipy.stats import ttest_ind\n",
    "import scipy.stats as stats\n",
    "from sklearn.feature_selection import SelectKBest, chi2\n",
    "from sklearn.model_selection import train_test_split\n",
    "import sklearn.metrics as metrics \n",
    "from scipy.stats import chi2_contingency\n",
    "import missingno as msno\n",
    "import Chi2test\n",
    "from sklearn.linear_model import LogisticRegression\n",
    "from sklearn.metrics import confusion_matrix\n",
    "from sklearn.ensemble import RandomForestClassifier\n",
    "from sklearn.model_selection import GridSearchCV\n",
    "from sklearn.svm import SVC\n",
    "import xgboost\n",
    "from plot_metric.functions import BinaryClassification"
   ]
  },
  {
   "cell_type": "code",
   "execution_count": 2,
   "metadata": {},
   "outputs": [],
   "source": [
    "NoShow_Clean = pd.read_pickle('NoShow_Clean.pkl')"
   ]
  },
  {
   "cell_type": "code",
   "execution_count": 3,
   "metadata": {
    "scrolled": true
   },
   "outputs": [
    {
     "data": {
      "text/html": [
       "<div>\n",
       "<style scoped>\n",
       "    .dataframe tbody tr th:only-of-type {\n",
       "        vertical-align: middle;\n",
       "    }\n",
       "\n",
       "    .dataframe tbody tr th {\n",
       "        vertical-align: top;\n",
       "    }\n",
       "\n",
       "    .dataframe thead th {\n",
       "        text-align: right;\n",
       "    }\n",
       "</style>\n",
       "<table border=\"1\" class=\"dataframe\">\n",
       "  <thead>\n",
       "    <tr style=\"text-align: right;\">\n",
       "      <th></th>\n",
       "      <th>Year</th>\n",
       "      <th>Season</th>\n",
       "      <th>WeekEnd</th>\n",
       "      <th>LastYear</th>\n",
       "      <th>LastSeason</th>\n",
       "      <th>LastWeekEnd</th>\n",
       "      <th>ClientType</th>\n",
       "      <th>Staff</th>\n",
       "      <th>BLastStaff</th>\n",
       "      <th>StaffCancType</th>\n",
       "      <th>...</th>\n",
       "      <th>ServicePrice</th>\n",
       "      <th>IsCanceled</th>\n",
       "      <th>LastIsCanceled</th>\n",
       "      <th>DaysRecency_cat</th>\n",
       "      <th>LastServicePrice_cat</th>\n",
       "      <th>LastServiceCost_cat</th>\n",
       "      <th>TotalClientCancellationsTillNow_cat</th>\n",
       "      <th>CancellationPcnt_cat</th>\n",
       "      <th>ServiceCost_cat</th>\n",
       "      <th>TotalClientBookingsTillNow_cat</th>\n",
       "    </tr>\n",
       "  </thead>\n",
       "  <tbody>\n",
       "    <tr>\n",
       "      <td>0</td>\n",
       "      <td>2018</td>\n",
       "      <td>Summer</td>\n",
       "      <td>1</td>\n",
       "      <td>2018</td>\n",
       "      <td>Summer</td>\n",
       "      <td>1</td>\n",
       "      <td>LowCancClient</td>\n",
       "      <td>JOANNE</td>\n",
       "      <td>JOANNE</td>\n",
       "      <td>HighCancStaff</td>\n",
       "      <td>...</td>\n",
       "      <td>0.0</td>\n",
       "      <td>0</td>\n",
       "      <td>0</td>\n",
       "      <td>NewClient</td>\n",
       "      <td>NewClient</td>\n",
       "      <td>5.00-10.00</td>\n",
       "      <td>NewClient</td>\n",
       "      <td>NewClient</td>\n",
       "      <td>Unknown</td>\n",
       "      <td>NewClient</td>\n",
       "    </tr>\n",
       "    <tr>\n",
       "      <td>1</td>\n",
       "      <td>2018</td>\n",
       "      <td>Summer</td>\n",
       "      <td>1</td>\n",
       "      <td>2018</td>\n",
       "      <td>Summer</td>\n",
       "      <td>1</td>\n",
       "      <td>LowCancClient</td>\n",
       "      <td>JOANNE</td>\n",
       "      <td>BECKY</td>\n",
       "      <td>HighCancStaff</td>\n",
       "      <td>...</td>\n",
       "      <td>0.0</td>\n",
       "      <td>0</td>\n",
       "      <td>0</td>\n",
       "      <td>NewClient</td>\n",
       "      <td>0.00-102.00</td>\n",
       "      <td>0.00-5.00</td>\n",
       "      <td>NewClient</td>\n",
       "      <td>NewClient</td>\n",
       "      <td>Unknown</td>\n",
       "      <td>NewClient</td>\n",
       "    </tr>\n",
       "    <tr>\n",
       "      <td>2</td>\n",
       "      <td>2018</td>\n",
       "      <td>Summer</td>\n",
       "      <td>1</td>\n",
       "      <td>NewClient</td>\n",
       "      <td>NewClient</td>\n",
       "      <td>NewClient</td>\n",
       "      <td>LowCancClient</td>\n",
       "      <td>JOANNE</td>\n",
       "      <td>NewClient</td>\n",
       "      <td>HighCancStaff</td>\n",
       "      <td>...</td>\n",
       "      <td>0.0</td>\n",
       "      <td>0</td>\n",
       "      <td>NewClient</td>\n",
       "      <td>NewClient</td>\n",
       "      <td>NewClient</td>\n",
       "      <td>NewClient</td>\n",
       "      <td>NewClient</td>\n",
       "      <td>NewClient</td>\n",
       "      <td>Unknown</td>\n",
       "      <td>NewClient</td>\n",
       "    </tr>\n",
       "    <tr>\n",
       "      <td>3</td>\n",
       "      <td>2018</td>\n",
       "      <td>Summer</td>\n",
       "      <td>0</td>\n",
       "      <td>2018</td>\n",
       "      <td>Summer</td>\n",
       "      <td>0</td>\n",
       "      <td>LowCancClient</td>\n",
       "      <td>JOANNE</td>\n",
       "      <td>JJ</td>\n",
       "      <td>HighCancStaff</td>\n",
       "      <td>...</td>\n",
       "      <td>0.0</td>\n",
       "      <td>0</td>\n",
       "      <td>0</td>\n",
       "      <td>NewClient</td>\n",
       "      <td>0.00-102.00</td>\n",
       "      <td>0.00-5.00</td>\n",
       "      <td>NewClient</td>\n",
       "      <td>NewClient</td>\n",
       "      <td>Unknown</td>\n",
       "      <td>NewClient</td>\n",
       "    </tr>\n",
       "    <tr>\n",
       "      <td>4</td>\n",
       "      <td>2018</td>\n",
       "      <td>Summer</td>\n",
       "      <td>0</td>\n",
       "      <td>2018</td>\n",
       "      <td>Summer</td>\n",
       "      <td>0</td>\n",
       "      <td>LowCancClient</td>\n",
       "      <td>JOANNE</td>\n",
       "      <td>JOANNE</td>\n",
       "      <td>HighCancStaff</td>\n",
       "      <td>...</td>\n",
       "      <td>0.0</td>\n",
       "      <td>0</td>\n",
       "      <td>0</td>\n",
       "      <td>NewClient</td>\n",
       "      <td>NewClient</td>\n",
       "      <td>5.00-10.00</td>\n",
       "      <td>NewClient</td>\n",
       "      <td>NewClient</td>\n",
       "      <td>Unknown</td>\n",
       "      <td>NewClient</td>\n",
       "    </tr>\n",
       "  </tbody>\n",
       "</table>\n",
       "<p>5 rows × 29 columns</p>\n",
       "</div>"
      ],
      "text/plain": [
       "   Year  Season WeekEnd   LastYear LastSeason LastWeekEnd     ClientType  \\\n",
       "0  2018  Summer       1       2018     Summer           1  LowCancClient   \n",
       "1  2018  Summer       1       2018     Summer           1  LowCancClient   \n",
       "2  2018  Summer       1  NewClient  NewClient   NewClient  LowCancClient   \n",
       "3  2018  Summer       0       2018     Summer           0  LowCancClient   \n",
       "4  2018  Summer       0       2018     Summer           0  LowCancClient   \n",
       "\n",
       "    Staff BLastStaff  StaffCancType  ... ServicePrice IsCanceled  \\\n",
       "0  JOANNE     JOANNE  HighCancStaff  ...          0.0          0   \n",
       "1  JOANNE      BECKY  HighCancStaff  ...          0.0          0   \n",
       "2  JOANNE  NewClient  HighCancStaff  ...          0.0          0   \n",
       "3  JOANNE         JJ  HighCancStaff  ...          0.0          0   \n",
       "4  JOANNE     JOANNE  HighCancStaff  ...          0.0          0   \n",
       "\n",
       "  LastIsCanceled DaysRecency_cat LastServicePrice_cat LastServiceCost_cat  \\\n",
       "0              0       NewClient            NewClient          5.00-10.00   \n",
       "1              0       NewClient          0.00-102.00           0.00-5.00   \n",
       "2      NewClient       NewClient            NewClient           NewClient   \n",
       "3              0       NewClient          0.00-102.00           0.00-5.00   \n",
       "4              0       NewClient            NewClient          5.00-10.00   \n",
       "\n",
       "  TotalClientCancellationsTillNow_cat CancellationPcnt_cat ServiceCost_cat  \\\n",
       "0                           NewClient            NewClient         Unknown   \n",
       "1                           NewClient            NewClient         Unknown   \n",
       "2                           NewClient            NewClient         Unknown   \n",
       "3                           NewClient            NewClient         Unknown   \n",
       "4                           NewClient            NewClient         Unknown   \n",
       "\n",
       "   TotalClientBookingsTillNow_cat  \n",
       "0                       NewClient  \n",
       "1                       NewClient  \n",
       "2                       NewClient  \n",
       "3                       NewClient  \n",
       "4                       NewClient  \n",
       "\n",
       "[5 rows x 29 columns]"
      ]
     },
     "execution_count": 3,
     "metadata": {},
     "output_type": "execute_result"
    }
   ],
   "source": [
    "NoShow_Clean.head()"
   ]
  },
  {
   "cell_type": "code",
   "execution_count": 4,
   "metadata": {},
   "outputs": [
    {
     "data": {
      "text/plain": [
       "Year                                   category\n",
       "Season                                 category\n",
       "WeekEnd                                category\n",
       "LastYear                               category\n",
       "LastSeason                             category\n",
       "LastWeekEnd                            category\n",
       "ClientType                             category\n",
       "Staff                                  category\n",
       "BLastStaff                             category\n",
       "StaffCancType                          category\n",
       "BLastServiceCode                       category\n",
       "BLastWomenMenService                   category\n",
       "BLastColorCutService                   category\n",
       "LastServiceCategory                    category\n",
       "ServiceCode                            category\n",
       "ServiceCancType                        category\n",
       "WomenMenService                        category\n",
       "ColorCutService                        category\n",
       "ServiceCategory                        category\n",
       "ServicePrice                            float64\n",
       "IsCanceled                             category\n",
       "LastIsCanceled                         category\n",
       "DaysRecency_cat                        category\n",
       "LastServicePrice_cat                   category\n",
       "LastServiceCost_cat                    category\n",
       "TotalClientCancellationsTillNow_cat    category\n",
       "CancellationPcnt_cat                   category\n",
       "ServiceCost_cat                        category\n",
       "TotalClientBookingsTillNow_cat         category\n",
       "dtype: object"
      ]
     },
     "execution_count": 4,
     "metadata": {},
     "output_type": "execute_result"
    }
   ],
   "source": [
    "NoShow_Clean.dtypes"
   ]
  },
  {
   "cell_type": "markdown",
   "metadata": {},
   "source": [
    "# Feature selection"
   ]
  },
  {
   "cell_type": "code",
   "execution_count": 5,
   "metadata": {},
   "outputs": [],
   "source": [
    "No_Show_dum = NoShow_Clean.copy()\n",
    "as_is_features = ['IsCanceled','ServicePrice']\n"
   ]
  },
  {
   "cell_type": "code",
   "execution_count": 6,
   "metadata": {},
   "outputs": [],
   "source": [
    "dummies_cols = [col for col in No_Show_dum.columns if col not in as_is_features]"
   ]
  },
  {
   "cell_type": "raw",
   "metadata": {},
   "source": [
    "No_Show_dum.index"
   ]
  },
  {
   "cell_type": "code",
   "execution_count": 7,
   "metadata": {
    "scrolled": true
   },
   "outputs": [],
   "source": [
    "No_Show_dum = pd.get_dummies(No_Show_dum[dummies_cols] )\n",
    "No_Show_dum[as_is_features]=NoShow_Clean[as_is_features]"
   ]
  },
  {
   "cell_type": "code",
   "execution_count": 8,
   "metadata": {},
   "outputs": [
    {
     "data": {
      "text/html": [
       "<div>\n",
       "<style scoped>\n",
       "    .dataframe tbody tr th:only-of-type {\n",
       "        vertical-align: middle;\n",
       "    }\n",
       "\n",
       "    .dataframe tbody tr th {\n",
       "        vertical-align: top;\n",
       "    }\n",
       "\n",
       "    .dataframe thead th {\n",
       "        text-align: right;\n",
       "    }\n",
       "</style>\n",
       "<table border=\"1\" class=\"dataframe\">\n",
       "  <thead>\n",
       "    <tr style=\"text-align: right;\">\n",
       "      <th></th>\n",
       "      <th>Year_2018</th>\n",
       "      <th>Year_2019</th>\n",
       "      <th>Season_Fall</th>\n",
       "      <th>Season_Spring</th>\n",
       "      <th>Season_Summer</th>\n",
       "      <th>Season_Winter</th>\n",
       "      <th>WeekEnd_0</th>\n",
       "      <th>WeekEnd_1</th>\n",
       "      <th>LastYear_2018.0</th>\n",
       "      <th>LastYear_2019.0</th>\n",
       "      <th>...</th>\n",
       "      <th>CancellationPcnt_cat_0.27-1.00</th>\n",
       "      <th>CancellationPcnt_cat_NewClient</th>\n",
       "      <th>ServiceCost_cat_0.00-0.27</th>\n",
       "      <th>ServiceCost_cat_0.27-1.00</th>\n",
       "      <th>ServiceCost_cat_Unknown</th>\n",
       "      <th>TotalClientBookingsTillNow_cat_0.00-0.27</th>\n",
       "      <th>TotalClientBookingsTillNow_cat_0.27-1.00</th>\n",
       "      <th>TotalClientBookingsTillNow_cat_NewClient</th>\n",
       "      <th>IsCanceled</th>\n",
       "      <th>ServicePrice</th>\n",
       "    </tr>\n",
       "  </thead>\n",
       "  <tbody>\n",
       "    <tr>\n",
       "      <td>0</td>\n",
       "      <td>1</td>\n",
       "      <td>0</td>\n",
       "      <td>0</td>\n",
       "      <td>0</td>\n",
       "      <td>1</td>\n",
       "      <td>0</td>\n",
       "      <td>0</td>\n",
       "      <td>1</td>\n",
       "      <td>1</td>\n",
       "      <td>0</td>\n",
       "      <td>...</td>\n",
       "      <td>0</td>\n",
       "      <td>1</td>\n",
       "      <td>0</td>\n",
       "      <td>0</td>\n",
       "      <td>1</td>\n",
       "      <td>0</td>\n",
       "      <td>0</td>\n",
       "      <td>1</td>\n",
       "      <td>0</td>\n",
       "      <td>0.0</td>\n",
       "    </tr>\n",
       "    <tr>\n",
       "      <td>1</td>\n",
       "      <td>1</td>\n",
       "      <td>0</td>\n",
       "      <td>0</td>\n",
       "      <td>0</td>\n",
       "      <td>1</td>\n",
       "      <td>0</td>\n",
       "      <td>0</td>\n",
       "      <td>1</td>\n",
       "      <td>1</td>\n",
       "      <td>0</td>\n",
       "      <td>...</td>\n",
       "      <td>0</td>\n",
       "      <td>1</td>\n",
       "      <td>0</td>\n",
       "      <td>0</td>\n",
       "      <td>1</td>\n",
       "      <td>0</td>\n",
       "      <td>0</td>\n",
       "      <td>1</td>\n",
       "      <td>0</td>\n",
       "      <td>0.0</td>\n",
       "    </tr>\n",
       "    <tr>\n",
       "      <td>2</td>\n",
       "      <td>1</td>\n",
       "      <td>0</td>\n",
       "      <td>0</td>\n",
       "      <td>0</td>\n",
       "      <td>1</td>\n",
       "      <td>0</td>\n",
       "      <td>0</td>\n",
       "      <td>1</td>\n",
       "      <td>0</td>\n",
       "      <td>0</td>\n",
       "      <td>...</td>\n",
       "      <td>0</td>\n",
       "      <td>1</td>\n",
       "      <td>0</td>\n",
       "      <td>0</td>\n",
       "      <td>1</td>\n",
       "      <td>0</td>\n",
       "      <td>0</td>\n",
       "      <td>1</td>\n",
       "      <td>0</td>\n",
       "      <td>0.0</td>\n",
       "    </tr>\n",
       "    <tr>\n",
       "      <td>3</td>\n",
       "      <td>1</td>\n",
       "      <td>0</td>\n",
       "      <td>0</td>\n",
       "      <td>0</td>\n",
       "      <td>1</td>\n",
       "      <td>0</td>\n",
       "      <td>1</td>\n",
       "      <td>0</td>\n",
       "      <td>1</td>\n",
       "      <td>0</td>\n",
       "      <td>...</td>\n",
       "      <td>0</td>\n",
       "      <td>1</td>\n",
       "      <td>0</td>\n",
       "      <td>0</td>\n",
       "      <td>1</td>\n",
       "      <td>0</td>\n",
       "      <td>0</td>\n",
       "      <td>1</td>\n",
       "      <td>0</td>\n",
       "      <td>0.0</td>\n",
       "    </tr>\n",
       "    <tr>\n",
       "      <td>4</td>\n",
       "      <td>1</td>\n",
       "      <td>0</td>\n",
       "      <td>0</td>\n",
       "      <td>0</td>\n",
       "      <td>1</td>\n",
       "      <td>0</td>\n",
       "      <td>1</td>\n",
       "      <td>0</td>\n",
       "      <td>1</td>\n",
       "      <td>0</td>\n",
       "      <td>...</td>\n",
       "      <td>0</td>\n",
       "      <td>1</td>\n",
       "      <td>0</td>\n",
       "      <td>0</td>\n",
       "      <td>1</td>\n",
       "      <td>0</td>\n",
       "      <td>0</td>\n",
       "      <td>1</td>\n",
       "      <td>0</td>\n",
       "      <td>0.0</td>\n",
       "    </tr>\n",
       "  </tbody>\n",
       "</table>\n",
       "<p>5 rows × 150 columns</p>\n",
       "</div>"
      ],
      "text/plain": [
       "   Year_2018  Year_2019  Season_Fall  Season_Spring  Season_Summer  \\\n",
       "0          1          0            0              0              1   \n",
       "1          1          0            0              0              1   \n",
       "2          1          0            0              0              1   \n",
       "3          1          0            0              0              1   \n",
       "4          1          0            0              0              1   \n",
       "\n",
       "   Season_Winter  WeekEnd_0  WeekEnd_1  LastYear_2018.0  LastYear_2019.0  ...  \\\n",
       "0              0          0          1                1                0  ...   \n",
       "1              0          0          1                1                0  ...   \n",
       "2              0          0          1                0                0  ...   \n",
       "3              0          1          0                1                0  ...   \n",
       "4              0          1          0                1                0  ...   \n",
       "\n",
       "   CancellationPcnt_cat_0.27-1.00  CancellationPcnt_cat_NewClient  \\\n",
       "0                               0                               1   \n",
       "1                               0                               1   \n",
       "2                               0                               1   \n",
       "3                               0                               1   \n",
       "4                               0                               1   \n",
       "\n",
       "   ServiceCost_cat_0.00-0.27  ServiceCost_cat_0.27-1.00  \\\n",
       "0                          0                          0   \n",
       "1                          0                          0   \n",
       "2                          0                          0   \n",
       "3                          0                          0   \n",
       "4                          0                          0   \n",
       "\n",
       "   ServiceCost_cat_Unknown  TotalClientBookingsTillNow_cat_0.00-0.27  \\\n",
       "0                        1                                         0   \n",
       "1                        1                                         0   \n",
       "2                        1                                         0   \n",
       "3                        1                                         0   \n",
       "4                        1                                         0   \n",
       "\n",
       "   TotalClientBookingsTillNow_cat_0.27-1.00  \\\n",
       "0                                         0   \n",
       "1                                         0   \n",
       "2                                         0   \n",
       "3                                         0   \n",
       "4                                         0   \n",
       "\n",
       "   TotalClientBookingsTillNow_cat_NewClient  IsCanceled  ServicePrice  \n",
       "0                                         1           0           0.0  \n",
       "1                                         1           0           0.0  \n",
       "2                                         1           0           0.0  \n",
       "3                                         1           0           0.0  \n",
       "4                                         1           0           0.0  \n",
       "\n",
       "[5 rows x 150 columns]"
      ]
     },
     "execution_count": 8,
     "metadata": {},
     "output_type": "execute_result"
    }
   ],
   "source": [
    "No_Show_dum.head()"
   ]
  },
  {
   "cell_type": "markdown",
   "metadata": {},
   "source": [
    "# After multiple attempts, it turns out that the best alpha is 0.5."
   ]
  },
  {
   "cell_type": "code",
   "execution_count": 9,
   "metadata": {},
   "outputs": [],
   "source": [
    "cT = Chi2test.ChiSquare(No_Show_dum)\n",
    "X_cols = No_Show_dum.drop(['IsCanceled'] , axis=1)\n",
    "selected_cols = cT.get_significant_list(list_X=X_cols,colY='IsCanceled', alpha=0.5) "
   ]
  },
  {
   "cell_type": "code",
   "execution_count": 10,
   "metadata": {},
   "outputs": [
    {
     "data": {
      "text/plain": [
       "['Season_Fall',\n",
       " 'Season_Spring',\n",
       " 'Season_Summer',\n",
       " 'Season_Winter',\n",
       " 'LastYear_2018.0',\n",
       " 'LastYear_2019.0',\n",
       " 'LastYear_NewClient',\n",
       " 'LastSeason_Fall',\n",
       " 'LastSeason_Spring',\n",
       " 'LastSeason_Summer',\n",
       " 'LastSeason_Winter',\n",
       " 'LastSeason_NewClient',\n",
       " 'LastWeekEnd_0.0',\n",
       " 'LastWeekEnd_1.0',\n",
       " 'LastWeekEnd_NewClient',\n",
       " 'ClientType_HighCancClient',\n",
       " 'ClientType_LowCancClient',\n",
       " 'ClientType_MediumCancClient',\n",
       " 'Staff_HOUSE',\n",
       " 'Staff_JJ',\n",
       " 'Staff_JOANNE',\n",
       " 'Staff_KELLY',\n",
       " 'Staff_SINEAD',\n",
       " 'BLastStaff_BECKY',\n",
       " 'BLastStaff_HOUSE',\n",
       " 'BLastStaff_JOANNE',\n",
       " 'BLastStaff_KELLY',\n",
       " 'BLastStaff_SINEAD',\n",
       " 'BLastStaff_TANYA',\n",
       " 'BLastStaff_NewClient',\n",
       " 'StaffCancType_HighCancStaff',\n",
       " 'StaffCancType_LowCancStaff',\n",
       " 'BLastServiceCode_CAS',\n",
       " 'BLastServiceCode_CBAL',\n",
       " 'BLastServiceCode_CCO',\n",
       " 'BLastServiceCode_CHLPL',\n",
       " 'BLastServiceCode_CT',\n",
       " 'BLastServiceCode_FRI',\n",
       " 'BLastServiceCode_SBD',\n",
       " 'BLastServiceCode_SHCC',\n",
       " 'BLastServiceCode_SHCW',\n",
       " 'BLastServiceCode_NewClient',\n",
       " 'BLastWomenMenService_Child',\n",
       " 'BLastWomenMenService_Other',\n",
       " 'BLastWomenMenService_Woman',\n",
       " 'BLastWomenMenService_NewClient',\n",
       " 'BLastColorCutService_Color',\n",
       " 'BLastColorCutService_Other',\n",
       " 'BLastColorCutService_NewClient',\n",
       " 'LastServiceCategory_COLOR',\n",
       " 'LastServiceCategory_STYLE',\n",
       " 'LastServiceCategory_NewClient',\n",
       " 'ServiceCode_CAL',\n",
       " 'ServiceCode_CAS',\n",
       " 'ServiceCode_CBAL',\n",
       " 'ServiceCode_CCAMO',\n",
       " 'ServiceCode_CCO',\n",
       " 'ServiceCode_CDPB',\n",
       " 'ServiceCode_CFC',\n",
       " 'ServiceCode_CHLFHC',\n",
       " 'ServiceCode_CHLPHC',\n",
       " 'ServiceCode_CON',\n",
       " 'ServiceCode_CT',\n",
       " 'ServiceCode_CTU',\n",
       " 'ServiceCode_FRI',\n",
       " 'ServiceCode_SBD',\n",
       " 'ServiceCode_SBD5+1',\n",
       " 'ServiceCode_SHCC',\n",
       " 'ServiceCode_SHCM',\n",
       " 'ServiceCode_SHCW',\n",
       " 'ServiceCancType_MediumCancService',\n",
       " 'WomenMenService_Child',\n",
       " 'WomenMenService_Man',\n",
       " 'WomenMenService_Other',\n",
       " 'WomenMenService_Woman',\n",
       " 'ColorCutService_Cut',\n",
       " 'ColorCutService_Other',\n",
       " 'ServiceCategory_COLOR',\n",
       " 'ServiceCategory_MISC',\n",
       " 'ServiceCategory_STYLE',\n",
       " 'LastIsCanceled_0.0',\n",
       " 'LastIsCanceled_1.0',\n",
       " 'LastIsCanceled_NewClient',\n",
       " 'DaysRecency_cat_0.00-2.00',\n",
       " 'DaysRecency_cat_2.00-19.00',\n",
       " 'DaysRecency_cat_19.00-50.00',\n",
       " 'DaysRecency_cat_50.00-260.00',\n",
       " 'DaysRecency_cat_NewClient',\n",
       " 'LastServicePrice_cat_0.00-102.00',\n",
       " 'LastServicePrice_cat_NewClient',\n",
       " 'LastServiceCost_cat_0.00-5.00',\n",
       " 'LastServiceCost_cat_5.00-10.00',\n",
       " 'LastServiceCost_cat_NewClient',\n",
       " 'TotalClientCancellationsTillNow_cat_0.00-1.00',\n",
       " 'TotalClientCancellationsTillNow_cat_1.00-3.00',\n",
       " 'TotalClientCancellationsTillNow_cat_NewClient',\n",
       " 'CancellationPcnt_cat_0.00-0.27',\n",
       " 'CancellationPcnt_cat_0.27-1.00',\n",
       " 'CancellationPcnt_cat_NewClient',\n",
       " 'TotalClientBookingsTillNow_cat_0.27-1.00',\n",
       " 'TotalClientBookingsTillNow_cat_NewClient',\n",
       " 'ServicePrice']"
      ]
     },
     "execution_count": 10,
     "metadata": {},
     "output_type": "execute_result"
    }
   ],
   "source": [
    "selected_cols"
   ]
  },
  {
   "cell_type": "code",
   "execution_count": 11,
   "metadata": {},
   "outputs": [],
   "source": [
    "No_Show_final = No_Show_dum[selected_cols + ['IsCanceled']]"
   ]
  },
  {
   "cell_type": "code",
   "execution_count": 12,
   "metadata": {
    "scrolled": true
   },
   "outputs": [
    {
     "data": {
      "text/html": [
       "<div>\n",
       "<style scoped>\n",
       "    .dataframe tbody tr th:only-of-type {\n",
       "        vertical-align: middle;\n",
       "    }\n",
       "\n",
       "    .dataframe tbody tr th {\n",
       "        vertical-align: top;\n",
       "    }\n",
       "\n",
       "    .dataframe thead th {\n",
       "        text-align: right;\n",
       "    }\n",
       "</style>\n",
       "<table border=\"1\" class=\"dataframe\">\n",
       "  <thead>\n",
       "    <tr style=\"text-align: right;\">\n",
       "      <th></th>\n",
       "      <th>Season_Fall</th>\n",
       "      <th>Season_Spring</th>\n",
       "      <th>Season_Summer</th>\n",
       "      <th>Season_Winter</th>\n",
       "      <th>LastYear_2018.0</th>\n",
       "      <th>LastYear_2019.0</th>\n",
       "      <th>LastYear_NewClient</th>\n",
       "      <th>LastSeason_Fall</th>\n",
       "      <th>LastSeason_Spring</th>\n",
       "      <th>LastSeason_Summer</th>\n",
       "      <th>...</th>\n",
       "      <th>TotalClientCancellationsTillNow_cat_0.00-1.00</th>\n",
       "      <th>TotalClientCancellationsTillNow_cat_1.00-3.00</th>\n",
       "      <th>TotalClientCancellationsTillNow_cat_NewClient</th>\n",
       "      <th>CancellationPcnt_cat_0.00-0.27</th>\n",
       "      <th>CancellationPcnt_cat_0.27-1.00</th>\n",
       "      <th>CancellationPcnt_cat_NewClient</th>\n",
       "      <th>TotalClientBookingsTillNow_cat_0.27-1.00</th>\n",
       "      <th>TotalClientBookingsTillNow_cat_NewClient</th>\n",
       "      <th>ServicePrice</th>\n",
       "      <th>IsCanceled</th>\n",
       "    </tr>\n",
       "  </thead>\n",
       "  <tbody>\n",
       "    <tr>\n",
       "      <td>0</td>\n",
       "      <td>0</td>\n",
       "      <td>0</td>\n",
       "      <td>1</td>\n",
       "      <td>0</td>\n",
       "      <td>1</td>\n",
       "      <td>0</td>\n",
       "      <td>0</td>\n",
       "      <td>0</td>\n",
       "      <td>0</td>\n",
       "      <td>1</td>\n",
       "      <td>...</td>\n",
       "      <td>0</td>\n",
       "      <td>0</td>\n",
       "      <td>1</td>\n",
       "      <td>0</td>\n",
       "      <td>0</td>\n",
       "      <td>1</td>\n",
       "      <td>0</td>\n",
       "      <td>1</td>\n",
       "      <td>0.0</td>\n",
       "      <td>0</td>\n",
       "    </tr>\n",
       "    <tr>\n",
       "      <td>1</td>\n",
       "      <td>0</td>\n",
       "      <td>0</td>\n",
       "      <td>1</td>\n",
       "      <td>0</td>\n",
       "      <td>1</td>\n",
       "      <td>0</td>\n",
       "      <td>0</td>\n",
       "      <td>0</td>\n",
       "      <td>0</td>\n",
       "      <td>1</td>\n",
       "      <td>...</td>\n",
       "      <td>0</td>\n",
       "      <td>0</td>\n",
       "      <td>1</td>\n",
       "      <td>0</td>\n",
       "      <td>0</td>\n",
       "      <td>1</td>\n",
       "      <td>0</td>\n",
       "      <td>1</td>\n",
       "      <td>0.0</td>\n",
       "      <td>0</td>\n",
       "    </tr>\n",
       "    <tr>\n",
       "      <td>2</td>\n",
       "      <td>0</td>\n",
       "      <td>0</td>\n",
       "      <td>1</td>\n",
       "      <td>0</td>\n",
       "      <td>0</td>\n",
       "      <td>0</td>\n",
       "      <td>1</td>\n",
       "      <td>0</td>\n",
       "      <td>0</td>\n",
       "      <td>0</td>\n",
       "      <td>...</td>\n",
       "      <td>0</td>\n",
       "      <td>0</td>\n",
       "      <td>1</td>\n",
       "      <td>0</td>\n",
       "      <td>0</td>\n",
       "      <td>1</td>\n",
       "      <td>0</td>\n",
       "      <td>1</td>\n",
       "      <td>0.0</td>\n",
       "      <td>0</td>\n",
       "    </tr>\n",
       "    <tr>\n",
       "      <td>3</td>\n",
       "      <td>0</td>\n",
       "      <td>0</td>\n",
       "      <td>1</td>\n",
       "      <td>0</td>\n",
       "      <td>1</td>\n",
       "      <td>0</td>\n",
       "      <td>0</td>\n",
       "      <td>0</td>\n",
       "      <td>0</td>\n",
       "      <td>1</td>\n",
       "      <td>...</td>\n",
       "      <td>0</td>\n",
       "      <td>0</td>\n",
       "      <td>1</td>\n",
       "      <td>0</td>\n",
       "      <td>0</td>\n",
       "      <td>1</td>\n",
       "      <td>0</td>\n",
       "      <td>1</td>\n",
       "      <td>0.0</td>\n",
       "      <td>0</td>\n",
       "    </tr>\n",
       "    <tr>\n",
       "      <td>4</td>\n",
       "      <td>0</td>\n",
       "      <td>0</td>\n",
       "      <td>1</td>\n",
       "      <td>0</td>\n",
       "      <td>1</td>\n",
       "      <td>0</td>\n",
       "      <td>0</td>\n",
       "      <td>0</td>\n",
       "      <td>0</td>\n",
       "      <td>1</td>\n",
       "      <td>...</td>\n",
       "      <td>0</td>\n",
       "      <td>0</td>\n",
       "      <td>1</td>\n",
       "      <td>0</td>\n",
       "      <td>0</td>\n",
       "      <td>1</td>\n",
       "      <td>0</td>\n",
       "      <td>1</td>\n",
       "      <td>0.0</td>\n",
       "      <td>0</td>\n",
       "    </tr>\n",
       "  </tbody>\n",
       "</table>\n",
       "<p>5 rows × 103 columns</p>\n",
       "</div>"
      ],
      "text/plain": [
       "   Season_Fall  Season_Spring  Season_Summer  Season_Winter  LastYear_2018.0  \\\n",
       "0            0              0              1              0                1   \n",
       "1            0              0              1              0                1   \n",
       "2            0              0              1              0                0   \n",
       "3            0              0              1              0                1   \n",
       "4            0              0              1              0                1   \n",
       "\n",
       "   LastYear_2019.0  LastYear_NewClient  LastSeason_Fall  LastSeason_Spring  \\\n",
       "0                0                   0                0                  0   \n",
       "1                0                   0                0                  0   \n",
       "2                0                   1                0                  0   \n",
       "3                0                   0                0                  0   \n",
       "4                0                   0                0                  0   \n",
       "\n",
       "   LastSeason_Summer  ...  TotalClientCancellationsTillNow_cat_0.00-1.00  \\\n",
       "0                  1  ...                                              0   \n",
       "1                  1  ...                                              0   \n",
       "2                  0  ...                                              0   \n",
       "3                  1  ...                                              0   \n",
       "4                  1  ...                                              0   \n",
       "\n",
       "   TotalClientCancellationsTillNow_cat_1.00-3.00  \\\n",
       "0                                              0   \n",
       "1                                              0   \n",
       "2                                              0   \n",
       "3                                              0   \n",
       "4                                              0   \n",
       "\n",
       "   TotalClientCancellationsTillNow_cat_NewClient  \\\n",
       "0                                              1   \n",
       "1                                              1   \n",
       "2                                              1   \n",
       "3                                              1   \n",
       "4                                              1   \n",
       "\n",
       "   CancellationPcnt_cat_0.00-0.27  CancellationPcnt_cat_0.27-1.00  \\\n",
       "0                               0                               0   \n",
       "1                               0                               0   \n",
       "2                               0                               0   \n",
       "3                               0                               0   \n",
       "4                               0                               0   \n",
       "\n",
       "   CancellationPcnt_cat_NewClient  TotalClientBookingsTillNow_cat_0.27-1.00  \\\n",
       "0                               1                                         0   \n",
       "1                               1                                         0   \n",
       "2                               1                                         0   \n",
       "3                               1                                         0   \n",
       "4                               1                                         0   \n",
       "\n",
       "   TotalClientBookingsTillNow_cat_NewClient  ServicePrice  IsCanceled  \n",
       "0                                         1           0.0           0  \n",
       "1                                         1           0.0           0  \n",
       "2                                         1           0.0           0  \n",
       "3                                         1           0.0           0  \n",
       "4                                         1           0.0           0  \n",
       "\n",
       "[5 rows x 103 columns]"
      ]
     },
     "execution_count": 12,
     "metadata": {},
     "output_type": "execute_result"
    }
   ],
   "source": [
    "No_Show_final.head()"
   ]
  },
  {
   "cell_type": "markdown",
   "metadata": {},
   "source": [
    "# Split to train and test"
   ]
  },
  {
   "cell_type": "code",
   "execution_count": 13,
   "metadata": {},
   "outputs": [],
   "source": [
    "X, y = No_Show_final[selected_cols], No_Show_final['IsCanceled']\n",
    "X_train, X_test, y_train, y_test = train_test_split(X, y, test_size=0.2, random_state=42)"
   ]
  },
  {
   "cell_type": "code",
   "execution_count": 14,
   "metadata": {},
   "outputs": [
    {
     "name": "stdout",
     "output_type": "stream",
     "text": [
      "X_train.shape : (2211, 102)\n",
      "X_test.shape : (553, 102)\n",
      "y_train.shape : (2211,)\n",
      "y_test.shape : (553,)\n"
     ]
    }
   ],
   "source": [
    "print(f'X_train.shape : {X_train.shape}\\nX_test.shape : {X_test.shape}\\ny_train.shape : {y_train.shape}\\ny_test.shape : {y_test.shape}')"
   ]
  },
  {
   "cell_type": "markdown",
   "metadata": {},
   "source": [
    "## Train will be splitted to dev and train using cross validation functions in the model creation"
   ]
  },
  {
   "cell_type": "markdown",
   "metadata": {},
   "source": [
    "# Model selection"
   ]
  },
  {
   "cell_type": "markdown",
   "metadata": {},
   "source": [
    "### For Grid Search:"
   ]
  },
  {
   "cell_type": "code",
   "execution_count": 15,
   "metadata": {},
   "outputs": [],
   "source": [
    "#define constants for grid search\n",
    "cv=2 #as the proportions of train and test\n",
    "verbose=1"
   ]
  },
  {
   "cell_type": "markdown",
   "metadata": {},
   "source": [
    "## Logistic regression"
   ]
  },
  {
   "cell_type": "code",
   "execution_count": 16,
   "metadata": {},
   "outputs": [],
   "source": [
    "logModel = LogisticRegression()\n",
    "logModel_params_ = {'penalty': ['l1', 'l2'],\n",
    "                'max_iter': [100, 300, 1000],\n",
    "                'tol': [1e-4, 1e-3, 1e-2],\n",
    "                'C': [1e-2, 0.1, 1, 5, 10]}"
   ]
  },
  {
   "cell_type": "code",
   "execution_count": 17,
   "metadata": {},
   "outputs": [
    {
     "name": "stdout",
     "output_type": "stream",
     "text": [
      "Fitting 2 folds for each of 90 candidates, totalling 180 fits\n"
     ]
    },
    {
     "name": "stderr",
     "output_type": "stream",
     "text": [
      "[Parallel(n_jobs=4)]: Using backend LokyBackend with 4 concurrent workers.\n",
      "[Parallel(n_jobs=4)]: Done  57 tasks      | elapsed:    5.6s\n",
      "[Parallel(n_jobs=4)]: Done 180 out of 180 | elapsed:    7.4s finished\n",
      "C:\\Users\\USER\\Anaconda3\\lib\\site-packages\\sklearn\\linear_model\\logistic.py:432: FutureWarning: Default solver will be changed to 'lbfgs' in 0.22. Specify a solver to silence this warning.\n",
      "  FutureWarning)\n"
     ]
    },
    {
     "data": {
      "text/plain": [
       "GridSearchCV(cv=2, error_score='raise-deprecating',\n",
       "             estimator=LogisticRegression(C=1.0, class_weight=None, dual=False,\n",
       "                                          fit_intercept=True,\n",
       "                                          intercept_scaling=1, l1_ratio=None,\n",
       "                                          max_iter=100, multi_class='warn',\n",
       "                                          n_jobs=None, penalty='l2',\n",
       "                                          random_state=None, solver='warn',\n",
       "                                          tol=0.0001, verbose=0,\n",
       "                                          warm_start=False),\n",
       "             iid='warn', n_jobs=4,\n",
       "             param_grid={'C': [0.01, 0.1, 1, 5, 10],\n",
       "                         'max_iter': [100, 300, 1000], 'penalty': ['l1', 'l2'],\n",
       "                         'tol': [0.0001, 0.001, 0.01]},\n",
       "             pre_dispatch='2*n_jobs', refit=True, return_train_score=False,\n",
       "             scoring='roc_auc', verbose=1)"
      ]
     },
     "execution_count": 17,
     "metadata": {},
     "output_type": "execute_result"
    }
   ],
   "source": [
    "logModel_m = GridSearchCV(logModel,\n",
    "                          logModel_params_,\n",
    "                          cv=cv,\n",
    "                          n_jobs=4,\n",
    "                          scoring = 'roc_auc',\n",
    "                          verbose=verbose)\n",
    "logModel_m.fit(X_train, y_train)"
   ]
  },
  {
   "cell_type": "code",
   "execution_count": 18,
   "metadata": {},
   "outputs": [
    {
     "name": "stdout",
     "output_type": "stream",
     "text": [
      "AUC For GS LogistictRegression - Mean Validation Score:  0.7824055407914973\n"
     ]
    }
   ],
   "source": [
    "print (\"AUC For GS LogistictRegression - Mean Validation Score: \",np.max(pd.DataFrame(logModel_m.cv_results_).mean_test_score))"
   ]
  },
  {
   "cell_type": "markdown",
   "metadata": {},
   "source": [
    "## Random Forest"
   ]
  },
  {
   "cell_type": "code",
   "execution_count": 19,
   "metadata": {},
   "outputs": [
    {
     "name": "stderr",
     "output_type": "stream",
     "text": [
      "[Parallel(n_jobs=1)]: Using backend SequentialBackend with 1 concurrent workers.\n"
     ]
    },
    {
     "name": "stdout",
     "output_type": "stream",
     "text": [
      "Fitting 2 folds for each of 120 candidates, totalling 240 fits\n"
     ]
    },
    {
     "name": "stderr",
     "output_type": "stream",
     "text": [
      "[Parallel(n_jobs=1)]: Done 240 out of 240 | elapsed:   19.5s finished\n"
     ]
    },
    {
     "data": {
      "text/plain": [
       "GridSearchCV(cv=2, error_score='raise-deprecating',\n",
       "             estimator=RandomForestClassifier(bootstrap=True, class_weight=None,\n",
       "                                              criterion='gini', max_depth=None,\n",
       "                                              max_features='auto',\n",
       "                                              max_leaf_nodes=None,\n",
       "                                              min_impurity_decrease=0.0,\n",
       "                                              min_impurity_split=None,\n",
       "                                              min_samples_leaf=1,\n",
       "                                              min_samples_split=2,\n",
       "                                              min_weight_fraction_leaf=0.0,\n",
       "                                              n_estimators='warn', n_jobs=None,\n",
       "                                              oob_score=False,\n",
       "                                              random_state=None, verbose=0,\n",
       "                                              warm_start=False),\n",
       "             iid='warn', n_jobs=None,\n",
       "             param_grid={'max_depth': [None, 5, 10],\n",
       "                         'max_features': [3, 5, 10, 'auto', 'log2'],\n",
       "                         'n_estimators': [2, 10, 25, 100],\n",
       "                         'warm_start': [True, False]},\n",
       "             pre_dispatch='2*n_jobs', refit=True, return_train_score=False,\n",
       "             scoring='roc_auc', verbose=1)"
      ]
     },
     "execution_count": 19,
     "metadata": {},
     "output_type": "execute_result"
    }
   ],
   "source": [
    "rfModel = RandomForestClassifier()\n",
    "rfModel_params_ = {'n_estimators':[2,10,25,100],\n",
    "                   'max_features':[3,5,10,'auto','log2'],\n",
    "                   'max_depth':[None,5,10],\n",
    "                   'warm_start':[True,False]}\n",
    "rfModel_m = GridSearchCV(rfModel,\n",
    "                          rfModel_params_,\n",
    "                          scoring = 'roc_auc',\n",
    "                          cv=cv,\n",
    "                          verbose=verbose)\n",
    "rfModel_m.fit(X_train, y_train)"
   ]
  },
  {
   "cell_type": "code",
   "execution_count": 20,
   "metadata": {},
   "outputs": [
    {
     "name": "stdout",
     "output_type": "stream",
     "text": [
      "AUC For GS RandomForestClassifier - Mean Validation Score:  0.8138667541228167\n"
     ]
    }
   ],
   "source": [
    "print (\"AUC For GS RandomForestClassifier - Mean Validation Score: \",np.max(pd.DataFrame(rfModel_m.cv_results_).mean_test_score))"
   ]
  },
  {
   "cell_type": "markdown",
   "metadata": {},
   "source": [
    "## XGBoost"
   ]
  },
  {
   "cell_type": "code",
   "execution_count": 21,
   "metadata": {
    "scrolled": true
   },
   "outputs": [
    {
     "name": "stdout",
     "output_type": "stream",
     "text": [
      "Fitting 2 folds for each of 24 candidates, totalling 48 fits\n"
     ]
    },
    {
     "name": "stderr",
     "output_type": "stream",
     "text": [
      "[Parallel(n_jobs=4)]: Using backend LokyBackend with 4 concurrent workers.\n",
      "[Parallel(n_jobs=4)]: Done  48 out of  48 | elapsed:   41.4s finished\n"
     ]
    },
    {
     "data": {
      "text/plain": [
       "GridSearchCV(cv=2, error_score='raise-deprecating',\n",
       "             estimator=XGBClassifier(base_score=None, booster=None,\n",
       "                                     colsample_bylevel=None,\n",
       "                                     colsample_bynode=None,\n",
       "                                     colsample_bytree=None, gamma=None,\n",
       "                                     gpu_id=None, importance_type='gain',\n",
       "                                     interaction_constraints=None,\n",
       "                                     learning_rate=None, max_delta_step=None,\n",
       "                                     max_depth=None, min_child_weight=None,\n",
       "                                     missing=nan, monotone_constrai...\n",
       "                                     subsample=None, tree_method=None,\n",
       "                                     validate_parameters=False,\n",
       "                                     verbosity=None),\n",
       "             iid='warn', n_jobs=4,\n",
       "             param_grid={'booster': ['gbtree', 'gblinear'],\n",
       "                         'early_stopping_rounds': [10], 'max_depth': [3, 5, 7],\n",
       "                         'n_estimators': [50, 100, 200, 400],\n",
       "                         'num_boost_round': [1000],\n",
       "                         'objective': ['binary:logistic']},\n",
       "             pre_dispatch='2*n_jobs', refit=True, return_train_score=False,\n",
       "             scoring='roc_auc', verbose=1)"
      ]
     },
     "execution_count": 21,
     "metadata": {},
     "output_type": "execute_result"
    }
   ],
   "source": [
    "xgbModel = xgboost.XGBClassifier()\n",
    "xgbModel_params_ ={'num_boost_round': [1000],\n",
    "                'early_stopping_rounds': [10],\n",
    "                'booster': ['gbtree', 'gblinear'],\n",
    "                'max_depth': [3, 5, 7],\n",
    "                'n_estimators': [50, 100, 200, 400],\n",
    "               'objective':['binary:logistic']}\n",
    "xgbModel_m = GridSearchCV(xgbModel,\n",
    "                          xgbModel_params_,\n",
    "                          cv=cv,\n",
    "                          n_jobs=4,\n",
    "                          scoring = 'roc_auc',\n",
    "                          verbose=verbose)\n",
    "xgbModel_m.fit(X_train, y_train)"
   ]
  },
  {
   "cell_type": "code",
   "execution_count": 22,
   "metadata": {},
   "outputs": [
    {
     "name": "stdout",
     "output_type": "stream",
     "text": [
      "AUC For GS XGBoostClassifier - Mean Validation Score:  0.8106214667340278\n"
     ]
    }
   ],
   "source": [
    "print (\"AUC For GS XGBoostClassifier - Mean Validation Score: \",np.max(pd.DataFrame(xgbModel_m.cv_results_).mean_test_score))"
   ]
  },
  {
   "cell_type": "markdown",
   "metadata": {},
   "source": [
    "# SVM"
   ]
  },
  {
   "cell_type": "code",
   "execution_count": 23,
   "metadata": {},
   "outputs": [],
   "source": [
    "svmModel = SVC(probability=True)"
   ]
  },
  {
   "cell_type": "code",
   "execution_count": 24,
   "metadata": {},
   "outputs": [],
   "source": [
    "svmModel_params_ = {'C': [0.001, 0.01, 0.1, 1, 10],\n",
    "                    'gamma' : [0.001, 0.01, 0.1, 1]}\n",
    "svmModel_m = GridSearchCV(svmModel,\n",
    "                          svmModel_params_,\n",
    "                          cv=cv,\n",
    "                          n_jobs=4,\n",
    "                          scoring = 'roc_auc',\n",
    "                          verbose=verbose)"
   ]
  },
  {
   "cell_type": "code",
   "execution_count": 25,
   "metadata": {},
   "outputs": [
    {
     "name": "stdout",
     "output_type": "stream",
     "text": [
      "Fitting 2 folds for each of 20 candidates, totalling 40 fits\n"
     ]
    },
    {
     "name": "stderr",
     "output_type": "stream",
     "text": [
      "[Parallel(n_jobs=4)]: Using backend LokyBackend with 4 concurrent workers.\n",
      "[Parallel(n_jobs=4)]: Done  40 out of  40 | elapsed:   14.2s finished\n"
     ]
    },
    {
     "data": {
      "text/plain": [
       "GridSearchCV(cv=2, error_score='raise-deprecating',\n",
       "             estimator=SVC(C=1.0, cache_size=200, class_weight=None, coef0=0.0,\n",
       "                           decision_function_shape='ovr', degree=3,\n",
       "                           gamma='auto_deprecated', kernel='rbf', max_iter=-1,\n",
       "                           probability=True, random_state=None, shrinking=True,\n",
       "                           tol=0.001, verbose=False),\n",
       "             iid='warn', n_jobs=4,\n",
       "             param_grid={'C': [0.001, 0.01, 0.1, 1, 10],\n",
       "                         'gamma': [0.001, 0.01, 0.1, 1]},\n",
       "             pre_dispatch='2*n_jobs', refit=True, return_train_score=False,\n",
       "             scoring='roc_auc', verbose=1)"
      ]
     },
     "execution_count": 25,
     "metadata": {},
     "output_type": "execute_result"
    }
   ],
   "source": [
    "svmModel_m.fit(X_train, y_train)"
   ]
  },
  {
   "cell_type": "code",
   "execution_count": 26,
   "metadata": {},
   "outputs": [
    {
     "name": "stdout",
     "output_type": "stream",
     "text": [
      "AUC For GS SVM - Mean Validation Score:  0.7470026553646654\n"
     ]
    }
   ],
   "source": [
    "print (\"AUC For GS SVM - Mean Validation Score: \",np.max(pd.DataFrame(svmModel_m.cv_results_).mean_test_score))"
   ]
  },
  {
   "cell_type": "markdown",
   "metadata": {},
   "source": [
    "## The best Mean Validation AUC scores are for: Random Forest, XGBoost\n",
    "## The chosen model will be the ensemble of Random Forest and XGBoost"
   ]
  },
  {
   "cell_type": "code",
   "execution_count": 27,
   "metadata": {},
   "outputs": [],
   "source": [
    "xgb_test_preds = xgbModel_m.predict_proba(X= X_test)[:,1]"
   ]
  },
  {
   "cell_type": "code",
   "execution_count": 28,
   "metadata": {},
   "outputs": [],
   "source": [
    "rfModel_test_preds = rfModel_m.predict_proba(X= X_test)[:,1]"
   ]
  },
  {
   "cell_type": "code",
   "execution_count": 45,
   "metadata": {},
   "outputs": [],
   "source": [
    "ensemble_rf_xgb_preds = np.column_stack((xgb_test_preds*0.9, rfModel_test_preds*0.1)).mean(axis=1)"
   ]
  },
  {
   "cell_type": "code",
   "execution_count": 46,
   "metadata": {},
   "outputs": [
    {
     "name": "stdout",
     "output_type": "stream",
     "text": [
      "AUC For GS ensembel-RF-XGB - test:  0.8072334682860999\n"
     ]
    }
   ],
   "source": [
    "print (\"AUC For GS ensembel-RF-XGB - test: \",metrics.roc_auc_score(y_test,ensemble_rf_xgb_preds))"
   ]
  },
  {
   "cell_type": "code",
   "execution_count": 47,
   "metadata": {},
   "outputs": [
    {
     "data": {
      "image/png": "[encoded data removed]",
      "text/plain": [
       "<Figure size 360x360 with 1 Axes>"
      ]
     },
     "metadata": {},
     "output_type": "display_data"
    }
   ],
   "source": [
    "# Visualisation with plot_metric\n",
    "bc = BinaryClassification(y_test,ensemble_rf_xgb_preds, labels=[\"NotCanceled\", \"Canceled\"])\n",
    "\n",
    "# Figures\n",
    "plt.figure(figsize=(5,5))\n",
    "bc.plot_roc_curve(threshold=0.09)\n",
    "plt.show()"
   ]
  },
  {
   "cell_type": "code",
   "execution_count": 48,
   "metadata": {},
   "outputs": [
    {
     "data": {
      "text/html": [
       "<div>\n",
       "<style scoped>\n",
       "    .dataframe tbody tr th:only-of-type {\n",
       "        vertical-align: middle;\n",
       "    }\n",
       "\n",
       "    .dataframe tbody tr th {\n",
       "        vertical-align: top;\n",
       "    }\n",
       "\n",
       "    .dataframe thead th {\n",
       "        text-align: right;\n",
       "    }\n",
       "</style>\n",
       "<table border=\"1\" class=\"dataframe\">\n",
       "  <thead>\n",
       "    <tr style=\"text-align: right;\">\n",
       "      <th>col_0</th>\n",
       "      <th>0</th>\n",
       "      <th>1</th>\n",
       "    </tr>\n",
       "    <tr>\n",
       "      <th>IsCanceled</th>\n",
       "      <th></th>\n",
       "      <th></th>\n",
       "    </tr>\n",
       "  </thead>\n",
       "  <tbody>\n",
       "    <tr>\n",
       "      <td>0</td>\n",
       "      <td>318</td>\n",
       "      <td>157</td>\n",
       "    </tr>\n",
       "    <tr>\n",
       "      <td>1</td>\n",
       "      <td>17</td>\n",
       "      <td>61</td>\n",
       "    </tr>\n",
       "  </tbody>\n",
       "</table>\n",
       "</div>"
      ],
      "text/plain": [
       "col_0         0    1\n",
       "IsCanceled          \n",
       "0           318  157\n",
       "1            17   61"
      ]
     },
     "execution_count": 48,
     "metadata": {},
     "output_type": "execute_result"
    }
   ],
   "source": [
    "pd.crosstab(y_test,(xgb_test_preds>0.09)*1)"
   ]
  }
 ],
 "metadata": {
  "kernelspec": {
   "display_name": "Python 3",
   "language": "python",
   "name": "python3"
  },
  "language_info": {
   "codemirror_mode": {
    "name": "ipython",
    "version": 3
   },
   "file_extension": ".py",
   "mimetype": "text/x-python",
   "name": "python",
   "nbconvert_exporter": "python",
   "pygments_lexer": "ipython3",
   "version": "3.7.4"
  }
 },
 "nbformat": 4,
 "nbformat_minor": 2
}
