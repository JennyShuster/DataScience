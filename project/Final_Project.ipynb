{
 "cells": [
  {
   "cell_type": "code",
   "execution_count": 64,
   "metadata": {},
   "outputs": [],
   "source": [
    "%matplotlib inline\n",
    "import pyodbc\n",
    "import pandas as pd\n",
    "import numpy as np\n",
    "import matplotlib.pyplot as plt \n",
    "import sys\n",
    "sys.path.append(\"..\") # Adds higher directory to python modules path.  \n",
    "import seaborn as sns\n",
    "import os.path\n",
    "from scipy.stats import ttest_ind\n",
    "import missingno as msnoasdxcz\n",
    "pd.set_option('display.max_rows', None)"
   ]
  },
  {
   "cell_type": "markdown",
   "metadata": {},
   "source": [
    "importing the files"
   ]
  },
  {
   "cell_type": "code",
   "execution_count": 65,
   "metadata": {},
   "outputs": [],
   "source": [
    "ClientsCancellation = pd.read_csv('./ProjectData/Client Cancellations0.csv')"
   ]
  },
  {
   "cell_type": "code",
   "execution_count": 66,
   "metadata": {},
   "outputs": [],
   "source": [
    "#The date data is not valid, it needs to be fixed\n",
    "ClientsCancellation[\"Cancel Date\"] = pd.to_datetime(ClientsCancellation[\"Cancel Date\"], format=\"%m/%d/%Y\")\n",
    "ClientsCancellation[\"Booking Date\"] = pd.to_datetime(ClientsCancellation[\"Booking Date\"], format=\"%m/%d/%Y\")"
   ]
  },
  {
   "cell_type": "code",
   "execution_count": 67,
   "metadata": {},
   "outputs": [
    {
     "data": {
      "text/plain": [
       "Timestamp('2018-05-24 00:00:00')"
      ]
     },
     "execution_count": 67,
     "metadata": {},
     "output_type": "execute_result"
    }
   ],
   "source": [
    "ClientsCancellation[\"Booking Date\"][0]"
   ]
  },
  {
   "cell_type": "code",
   "execution_count": 68,
   "metadata": {},
   "outputs": [
    {
     "data": {
      "text/html": [
       "<div>\n",
       "<style scoped>\n",
       "    .dataframe tbody tr th:only-of-type {\n",
       "        vertical-align: middle;\n",
       "    }\n",
       "\n",
       "    .dataframe tbody tr th {\n",
       "        vertical-align: top;\n",
       "    }\n",
       "\n",
       "    .dataframe thead th {\n",
       "        text-align: right;\n",
       "    }\n",
       "</style>\n",
       "<table border=\"1\" class=\"dataframe\">\n",
       "  <thead>\n",
       "    <tr style=\"text-align: right;\">\n",
       "      <th></th>\n",
       "      <th>Cancel Date</th>\n",
       "      <th>Code</th>\n",
       "      <th>Service</th>\n",
       "      <th>Staff</th>\n",
       "      <th>Booking Date</th>\n",
       "      <th>Canceled By</th>\n",
       "      <th>Days</th>\n",
       "    </tr>\n",
       "  </thead>\n",
       "  <tbody>\n",
       "    <tr>\n",
       "      <td>0</td>\n",
       "      <td>2018-05-22</td>\n",
       "      <td>MASA01</td>\n",
       "      <td>CFC</td>\n",
       "      <td>JOANNE</td>\n",
       "      <td>2018-05-24</td>\n",
       "      <td>ADMIN</td>\n",
       "      <td>2.0</td>\n",
       "    </tr>\n",
       "    <tr>\n",
       "      <td>1</td>\n",
       "      <td>2018-06-27</td>\n",
       "      <td>MASA01</td>\n",
       "      <td>CBAL</td>\n",
       "      <td>KELLY</td>\n",
       "      <td>2018-06-27</td>\n",
       "      <td>ADMIN</td>\n",
       "      <td>0.0</td>\n",
       "    </tr>\n",
       "    <tr>\n",
       "      <td>2</td>\n",
       "      <td>2018-07-03</td>\n",
       "      <td>MASA01</td>\n",
       "      <td>SHCM</td>\n",
       "      <td>BECKY</td>\n",
       "      <td>2018-07-10</td>\n",
       "      <td>BECKY</td>\n",
       "      <td>7.0</td>\n",
       "    </tr>\n",
       "    <tr>\n",
       "      <td>3</td>\n",
       "      <td>2018-07-10</td>\n",
       "      <td>MASA01</td>\n",
       "      <td>SHCC</td>\n",
       "      <td>JJ</td>\n",
       "      <td>2018-07-11</td>\n",
       "      <td>KELLY</td>\n",
       "      <td>1.0</td>\n",
       "    </tr>\n",
       "    <tr>\n",
       "      <td>4</td>\n",
       "      <td>2018-07-24</td>\n",
       "      <td>TRUA01</td>\n",
       "      <td>SHCM</td>\n",
       "      <td>KELLY</td>\n",
       "      <td>2018-07-24</td>\n",
       "      <td>TANYA</td>\n",
       "      <td>0.0</td>\n",
       "    </tr>\n",
       "  </tbody>\n",
       "</table>\n",
       "</div>"
      ],
      "text/plain": [
       "  Cancel Date    Code Service   Staff Booking Date Canceled By  Days\n",
       "0 2018-05-22   MASA01  CFC     JOANNE 2018-05-24    ADMIN       2.0 \n",
       "1 2018-06-27   MASA01  CBAL    KELLY  2018-06-27    ADMIN       0.0 \n",
       "2 2018-07-03   MASA01  SHCM    BECKY  2018-07-10    BECKY       7.0 \n",
       "3 2018-07-10   MASA01  SHCC    JJ     2018-07-11    KELLY       1.0 \n",
       "4 2018-07-24   TRUA01  SHCM    KELLY  2018-07-24    TANYA       0.0 "
      ]
     },
     "execution_count": 68,
     "metadata": {},
     "output_type": "execute_result"
    }
   ],
   "source": [
    "ClientsCancellation.head()"
   ]
  },
  {
   "cell_type": "code",
   "execution_count": 70,
   "metadata": {},
   "outputs": [],
   "source": [
    "ClientsCancellation.to_csv ('ProjectData/ClientsCancellation1.csv')"
   ]
  },
  {
   "cell_type": "code",
   "execution_count": null,
   "metadata": {},
   "outputs": [],
   "source": []
  }
 ],
 "metadata": {
  "kernelspec": {
   "display_name": "Python 3",
   "language": "python",
   "name": "python3"
  },
  "language_info": {
   "codemirror_mode": {
    "name": "ipython",
    "version": 3
   },
   "file_extension": ".py",
   "mimetype": "text/x-python",
   "name": "python",
   "nbconvert_exporter": "python",
   "pygments_lexer": "ipython3",
   "version": "3.7.4"
  }
 },
 "nbformat": 4,
 "nbformat_minor": 2
}
