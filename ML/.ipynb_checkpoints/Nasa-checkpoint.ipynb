{
 "cells": [
  {
   "cell_type": "code",
   "execution_count": 1,
   "metadata": {},
   "outputs": [
    {
     "name": "stderr",
     "output_type": "stream",
     "text": [
      "\n",
      "Attaching package: ‘dplyr’\n",
      "\n",
      "\n",
      "The following objects are masked from ‘package:stats’:\n",
      "\n",
      "    filter, lag\n",
      "\n",
      "\n",
      "The following objects are masked from ‘package:base’:\n",
      "\n",
      "    intersect, setdiff, setequal, union\n",
      "\n",
      "\n"
     ]
    }
   ],
   "source": [
    "library(dplyr)"
   ]
  },
  {
   "cell_type": "code",
   "execution_count": 2,
   "metadata": {},
   "outputs": [
    {
     "name": "stderr",
     "output_type": "stream",
     "text": [
      "Warning message:\n",
      "“`as_data_frame()` is deprecated, use `as_tibble()` (but mind the new semantics).\n",
      "\u001b[90mThis warning is displayed once per session.\u001b[39m”\n"
     ]
    }
   ],
   "source": [
    "nasa <- as_data_frame(nasa)"
   ]
  },
  {
   "cell_type": "markdown",
   "metadata": {},
   "source": [
    "# Data partition"
   ]
  },
  {
   "cell_type": "code",
   "execution_count": 3,
   "metadata": {},
   "outputs": [
    {
     "name": "stderr",
     "output_type": "stream",
     "text": [
      "Dataset partitioned into:\n",
      "\n",
      " + Train dataset: train\n",
      "\n",
      " + Test dataset: test\n",
      "\n"
     ]
    },
    {
     "name": "stdout",
     "output_type": "stream",
     "text": [
      "  |======================================================================| 100%"
     ]
    },
    {
     "name": "stderr",
     "output_type": "stream",
     "text": [
      "Coefficient covariances computed by hccm()\n",
      "\n",
      "You got a perfectly balanced training and test datasets\n",
      "\n",
      " \n",
      "\n"
     ]
    },
    {
     "data": {
      "text/html": [
       "<table>\n",
       "<caption>A tibble: 26 × 6</caption>\n",
       "<thead>\n",
       "\t<tr><th scope=col>V1</th><th scope=col>V2</th><th scope=col>Pop</th><th scope=col>1</th><th scope=col>2</th><th scope=col>pval</th></tr>\n",
       "\t<tr><th scope=col>&lt;chr&gt;</th><th scope=col>&lt;chr&gt;</th><th scope=col>&lt;chr&gt;</th><th scope=col>&lt;fct&gt;</th><th scope=col>&lt;fct&gt;</th><th scope=col>&lt;fct&gt;</th></tr>\n",
       "</thead>\n",
       "<tbody>\n",
       "\t<tr><td>Individuals   </td><td>n           </td><td>41472                    </td><td>29030                    </td><td>12442                    </td><td>NA   </td></tr>\n",
       "\t<tr><td>lat           </td><td>Mean (SD)   </td><td>7.5 (17.3)               </td><td>7.5 (17.3)               </td><td>7.6 (17.3)               </td><td>NA   </td></tr>\n",
       "\t<tr><td>lat           </td><td>Median (IQR)</td><td>7.5 (-6.9-21.9)          </td><td>6.3 (-8.7-21.2)          </td><td>8.7 (-6.2-23.7)          </td><td>0.39 </td></tr>\n",
       "\t<tr><td>long          </td><td>Mean (SD)   </td><td>-85.0 (17.3)             </td><td>-85.0 (17.3)             </td><td>-85.0 (17.3)             </td><td>NA   </td></tr>\n",
       "\t<tr><td>long          </td><td>Median (IQR)</td><td>-85.0 (-99.4--70.6)      </td><td>-86.3 (-101.3--68.7)     </td><td>-83.7 (-98.8--71.2)      </td><td>0.989</td></tr>\n",
       "\t<tr><td>month         </td><td>Mean (SD)   </td><td>6.5 (3.5)                </td><td>6.5 (3.5)                </td><td>6.5 (3.4)                </td><td>NA   </td></tr>\n",
       "\t<tr><td>month         </td><td>Median (IQR)</td><td>6.5 (3.8-9.2)            </td><td>6.0 (3.0-9.0)            </td><td>7.0 (4.0-10.0)           </td><td>0.159</td></tr>\n",
       "\t<tr><td>year          </td><td>Mean (SD)   </td><td>1,997.5 (1.7)            </td><td>1,997.5 (1.7)            </td><td>1,997.5 (1.7)            </td><td>NA   </td></tr>\n",
       "\t<tr><td>year          </td><td>Median (IQR)</td><td>1,997.5 (1,996.0-1,999.0)</td><td>1,997.0 (1,996.0-1,999.0)</td><td>1,998.0 (1,996.0-1,999.0)</td><td>0.836</td></tr>\n",
       "\t<tr><td>cloudhigh     </td><td>Mean (SD)   </td><td>12.0 (12.4)              </td><td>12.0 (12.4)              </td><td>12.1 (12.4)              </td><td>NA   </td></tr>\n",
       "\t<tr><td>cloudhigh     </td><td>Median (IQR)</td><td>8.5 (1.5-18.5)           </td><td>8.5 (1.5-18.0)           </td><td>8.5 (1.5-18.5)           </td><td>0.367</td></tr>\n",
       "\t<tr><td>cloudlow      </td><td>Mean (SD)   </td><td>26.2 (14.8)              </td><td>26.3 (14.8)              </td><td>26.1 (14.7)              </td><td>NA   </td></tr>\n",
       "\t<tr><td>cloudlow      </td><td>Median (IQR)</td><td>23.5 (15.0-34.5)         </td><td>23.5 (15.5-34.5)         </td><td>23.0 (15.0-34.5)         </td><td>0.116</td></tr>\n",
       "\t<tr><td>cloudlow      </td><td>Missing (%) </td><td>110 (0.3%)               </td><td>72 (0.2%)                </td><td>38 (0.3%)                </td><td>NA   </td></tr>\n",
       "\t<tr><td>cloudmid      </td><td>Mean (SD)   </td><td>15.3 (9.7)               </td><td>15.3 (9.7)               </td><td>15.3 (9.7)               </td><td>NA   </td></tr>\n",
       "\t<tr><td>cloudmid      </td><td>Median (IQR)</td><td>14.0 (7.5-22.0)          </td><td>14.0 (7.5-22.0)          </td><td>14.5 (7.5-22.0)          </td><td>0.931</td></tr>\n",
       "\t<tr><td>ozone         </td><td>Mean (SD)   </td><td>267.2 (19.0)             </td><td>267.1 (18.9)             </td><td>267.4 (19.1)             </td><td>NA   </td></tr>\n",
       "\t<tr><td>ozone         </td><td>Median (IQR)</td><td>264.0 (254.0-276.0)      </td><td>264.0 (254.0-276.0)      </td><td>264.0 (254.0-276.0)      </td><td>0.186</td></tr>\n",
       "\t<tr><td>pressure      </td><td>Mean (SD)   </td><td>985.4 (45.2)             </td><td>985.4 (45.2)             </td><td>985.4 (45.3)             </td><td>NA   </td></tr>\n",
       "\t<tr><td>pressure      </td><td>Median (IQR)</td><td>1,000.0 (995.0-1,000.0)  </td><td>1,000.0 (995.0-1,000.0)  </td><td>1,000.0 (995.0-1,000.0)  </td><td>0.971</td></tr>\n",
       "\t<tr><td>surftemp      </td><td>Mean (SD)   </td><td>296.2 (4.7)              </td><td>296.2 (4.7)              </td><td>296.2 (4.7)              </td><td>NA   </td></tr>\n",
       "\t<tr><td>surftemp      </td><td>Median (IQR)</td><td>296.9 (294.1-299.2)      </td><td>296.9 (294.1-299.2)      </td><td>296.9 (294.1-299.2)      </td><td>0.838</td></tr>\n",
       "\t<tr><td>temperature   </td><td>Mean (SD)   </td><td>297.9 (4.7)              </td><td>297.9 (4.7)              </td><td>297.9 (4.8)              </td><td>NA   </td></tr>\n",
       "\t<tr><td>temperature   </td><td>Median (IQR)</td><td>299.2 (295.5-301.4)      </td><td>299.2 (295.5-301.4)      </td><td>299.2 (295.5-301.4)      </td><td>0.971</td></tr>\n",
       "\t<tr><td>traintest_ind_</td><td>Mean (SD)   </td><td>1.3 (0.5)                </td><td>NA                       </td><td>NA                       </td><td>NA   </td></tr>\n",
       "\t<tr><td>traintest_ind_</td><td>Median (IQR)</td><td>1.0 (1.0-2.0)            </td><td>NA                       </td><td>NA                       </td><td>0    </td></tr>\n",
       "</tbody>\n",
       "</table>\n"
      ],
      "text/latex": [
       "A tibble: 26 × 6\n",
       "\\begin{tabular}{r|llllll}\n",
       " V1 & V2 & Pop & 1 & 2 & pval\\\\\n",
       " <chr> & <chr> & <chr> & <fct> & <fct> & <fct>\\\\\n",
       "\\hline\n",
       "\t Individuals    & n            & 41472                     & 29030                     & 12442                     & NA   \\\\\n",
       "\t lat            & Mean (SD)    & 7.5 (17.3)                & 7.5 (17.3)                & 7.6 (17.3)                & NA   \\\\\n",
       "\t lat            & Median (IQR) & 7.5 (-6.9-21.9)           & 6.3 (-8.7-21.2)           & 8.7 (-6.2-23.7)           & 0.39 \\\\\n",
       "\t long           & Mean (SD)    & -85.0 (17.3)              & -85.0 (17.3)              & -85.0 (17.3)              & NA   \\\\\n",
       "\t long           & Median (IQR) & -85.0 (-99.4--70.6)       & -86.3 (-101.3--68.7)      & -83.7 (-98.8--71.2)       & 0.989\\\\\n",
       "\t month          & Mean (SD)    & 6.5 (3.5)                 & 6.5 (3.5)                 & 6.5 (3.4)                 & NA   \\\\\n",
       "\t month          & Median (IQR) & 6.5 (3.8-9.2)             & 6.0 (3.0-9.0)             & 7.0 (4.0-10.0)            & 0.159\\\\\n",
       "\t year           & Mean (SD)    & 1,997.5 (1.7)             & 1,997.5 (1.7)             & 1,997.5 (1.7)             & NA   \\\\\n",
       "\t year           & Median (IQR) & 1,997.5 (1,996.0-1,999.0) & 1,997.0 (1,996.0-1,999.0) & 1,998.0 (1,996.0-1,999.0) & 0.836\\\\\n",
       "\t cloudhigh      & Mean (SD)    & 12.0 (12.4)               & 12.0 (12.4)               & 12.1 (12.4)               & NA   \\\\\n",
       "\t cloudhigh      & Median (IQR) & 8.5 (1.5-18.5)            & 8.5 (1.5-18.0)            & 8.5 (1.5-18.5)            & 0.367\\\\\n",
       "\t cloudlow       & Mean (SD)    & 26.2 (14.8)               & 26.3 (14.8)               & 26.1 (14.7)               & NA   \\\\\n",
       "\t cloudlow       & Median (IQR) & 23.5 (15.0-34.5)          & 23.5 (15.5-34.5)          & 23.0 (15.0-34.5)          & 0.116\\\\\n",
       "\t cloudlow       & Missing (\\%)  & 110 (0.3\\%)                & 72 (0.2\\%)                 & 38 (0.3\\%)                 & NA   \\\\\n",
       "\t cloudmid       & Mean (SD)    & 15.3 (9.7)                & 15.3 (9.7)                & 15.3 (9.7)                & NA   \\\\\n",
       "\t cloudmid       & Median (IQR) & 14.0 (7.5-22.0)           & 14.0 (7.5-22.0)           & 14.5 (7.5-22.0)           & 0.931\\\\\n",
       "\t ozone          & Mean (SD)    & 267.2 (19.0)              & 267.1 (18.9)              & 267.4 (19.1)              & NA   \\\\\n",
       "\t ozone          & Median (IQR) & 264.0 (254.0-276.0)       & 264.0 (254.0-276.0)       & 264.0 (254.0-276.0)       & 0.186\\\\\n",
       "\t pressure       & Mean (SD)    & 985.4 (45.2)              & 985.4 (45.2)              & 985.4 (45.3)              & NA   \\\\\n",
       "\t pressure       & Median (IQR) & 1,000.0 (995.0-1,000.0)   & 1,000.0 (995.0-1,000.0)   & 1,000.0 (995.0-1,000.0)   & 0.971\\\\\n",
       "\t surftemp       & Mean (SD)    & 296.2 (4.7)               & 296.2 (4.7)               & 296.2 (4.7)               & NA   \\\\\n",
       "\t surftemp       & Median (IQR) & 296.9 (294.1-299.2)       & 296.9 (294.1-299.2)       & 296.9 (294.1-299.2)       & 0.838\\\\\n",
       "\t temperature    & Mean (SD)    & 297.9 (4.7)               & 297.9 (4.7)               & 297.9 (4.8)               & NA   \\\\\n",
       "\t temperature    & Median (IQR) & 299.2 (295.5-301.4)       & 299.2 (295.5-301.4)       & 299.2 (295.5-301.4)       & 0.971\\\\\n",
       "\t traintest\\_ind\\_ & Mean (SD)    & 1.3 (0.5)                 & NA                        & NA                        & NA   \\\\\n",
       "\t traintest\\_ind\\_ & Median (IQR) & 1.0 (1.0-2.0)             & NA                        & NA                        & 0    \\\\\n",
       "\\end{tabular}\n"
      ],
      "text/markdown": [
       "\n",
       "A tibble: 26 × 6\n",
       "\n",
       "| V1 &lt;chr&gt; | V2 &lt;chr&gt; | Pop &lt;chr&gt; | 1 &lt;fct&gt; | 2 &lt;fct&gt; | pval &lt;fct&gt; |\n",
       "|---|---|---|---|---|---|\n",
       "| Individuals    | n            | 41472                     | 29030                     | 12442                     | NA    |\n",
       "| lat            | Mean (SD)    | 7.5 (17.3)                | 7.5 (17.3)                | 7.6 (17.3)                | NA    |\n",
       "| lat            | Median (IQR) | 7.5 (-6.9-21.9)           | 6.3 (-8.7-21.2)           | 8.7 (-6.2-23.7)           | 0.39  |\n",
       "| long           | Mean (SD)    | -85.0 (17.3)              | -85.0 (17.3)              | -85.0 (17.3)              | NA    |\n",
       "| long           | Median (IQR) | -85.0 (-99.4--70.6)       | -86.3 (-101.3--68.7)      | -83.7 (-98.8--71.2)       | 0.989 |\n",
       "| month          | Mean (SD)    | 6.5 (3.5)                 | 6.5 (3.5)                 | 6.5 (3.4)                 | NA    |\n",
       "| month          | Median (IQR) | 6.5 (3.8-9.2)             | 6.0 (3.0-9.0)             | 7.0 (4.0-10.0)            | 0.159 |\n",
       "| year           | Mean (SD)    | 1,997.5 (1.7)             | 1,997.5 (1.7)             | 1,997.5 (1.7)             | NA    |\n",
       "| year           | Median (IQR) | 1,997.5 (1,996.0-1,999.0) | 1,997.0 (1,996.0-1,999.0) | 1,998.0 (1,996.0-1,999.0) | 0.836 |\n",
       "| cloudhigh      | Mean (SD)    | 12.0 (12.4)               | 12.0 (12.4)               | 12.1 (12.4)               | NA    |\n",
       "| cloudhigh      | Median (IQR) | 8.5 (1.5-18.5)            | 8.5 (1.5-18.0)            | 8.5 (1.5-18.5)            | 0.367 |\n",
       "| cloudlow       | Mean (SD)    | 26.2 (14.8)               | 26.3 (14.8)               | 26.1 (14.7)               | NA    |\n",
       "| cloudlow       | Median (IQR) | 23.5 (15.0-34.5)          | 23.5 (15.5-34.5)          | 23.0 (15.0-34.5)          | 0.116 |\n",
       "| cloudlow       | Missing (%)  | 110 (0.3%)                | 72 (0.2%)                 | 38 (0.3%)                 | NA    |\n",
       "| cloudmid       | Mean (SD)    | 15.3 (9.7)                | 15.3 (9.7)                | 15.3 (9.7)                | NA    |\n",
       "| cloudmid       | Median (IQR) | 14.0 (7.5-22.0)           | 14.0 (7.5-22.0)           | 14.5 (7.5-22.0)           | 0.931 |\n",
       "| ozone          | Mean (SD)    | 267.2 (19.0)              | 267.1 (18.9)              | 267.4 (19.1)              | NA    |\n",
       "| ozone          | Median (IQR) | 264.0 (254.0-276.0)       | 264.0 (254.0-276.0)       | 264.0 (254.0-276.0)       | 0.186 |\n",
       "| pressure       | Mean (SD)    | 985.4 (45.2)              | 985.4 (45.2)              | 985.4 (45.3)              | NA    |\n",
       "| pressure       | Median (IQR) | 1,000.0 (995.0-1,000.0)   | 1,000.0 (995.0-1,000.0)   | 1,000.0 (995.0-1,000.0)   | 0.971 |\n",
       "| surftemp       | Mean (SD)    | 296.2 (4.7)               | 296.2 (4.7)               | 296.2 (4.7)               | NA    |\n",
       "| surftemp       | Median (IQR) | 296.9 (294.1-299.2)       | 296.9 (294.1-299.2)       | 296.9 (294.1-299.2)       | 0.838 |\n",
       "| temperature    | Mean (SD)    | 297.9 (4.7)               | 297.9 (4.7)               | 297.9 (4.8)               | NA    |\n",
       "| temperature    | Median (IQR) | 299.2 (295.5-301.4)       | 299.2 (295.5-301.4)       | 299.2 (295.5-301.4)       | 0.971 |\n",
       "| traintest_ind_ | Mean (SD)    | 1.3 (0.5)                 | NA                        | NA                        | NA    |\n",
       "| traintest_ind_ | Median (IQR) | 1.0 (1.0-2.0)             | NA                        | NA                        | 0     |\n",
       "\n"
      ],
      "text/plain": [
       "   V1             V2           Pop                      \n",
       "1  Individuals    n            41472                    \n",
       "2  lat            Mean (SD)    7.5 (17.3)               \n",
       "3  lat            Median (IQR) 7.5 (-6.9-21.9)          \n",
       "4  long           Mean (SD)    -85.0 (17.3)             \n",
       "5  long           Median (IQR) -85.0 (-99.4--70.6)      \n",
       "6  month          Mean (SD)    6.5 (3.5)                \n",
       "7  month          Median (IQR) 6.5 (3.8-9.2)            \n",
       "8  year           Mean (SD)    1,997.5 (1.7)            \n",
       "9  year           Median (IQR) 1,997.5 (1,996.0-1,999.0)\n",
       "10 cloudhigh      Mean (SD)    12.0 (12.4)              \n",
       "11 cloudhigh      Median (IQR) 8.5 (1.5-18.5)           \n",
       "12 cloudlow       Mean (SD)    26.2 (14.8)              \n",
       "13 cloudlow       Median (IQR) 23.5 (15.0-34.5)         \n",
       "14 cloudlow       Missing (%)  110 (0.3%)               \n",
       "15 cloudmid       Mean (SD)    15.3 (9.7)               \n",
       "16 cloudmid       Median (IQR) 14.0 (7.5-22.0)          \n",
       "17 ozone          Mean (SD)    267.2 (19.0)             \n",
       "18 ozone          Median (IQR) 264.0 (254.0-276.0)      \n",
       "19 pressure       Mean (SD)    985.4 (45.2)             \n",
       "20 pressure       Median (IQR) 1,000.0 (995.0-1,000.0)  \n",
       "21 surftemp       Mean (SD)    296.2 (4.7)              \n",
       "22 surftemp       Median (IQR) 296.9 (294.1-299.2)      \n",
       "23 temperature    Mean (SD)    297.9 (4.7)              \n",
       "24 temperature    Median (IQR) 299.2 (295.5-301.4)      \n",
       "25 traintest_ind_ Mean (SD)    1.3 (0.5)                \n",
       "26 traintest_ind_ Median (IQR) 1.0 (1.0-2.0)            \n",
       "   1                         2                         pval \n",
       "1  29030                     12442                     NA   \n",
       "2  7.5 (17.3)                7.6 (17.3)                NA   \n",
       "3  6.3 (-8.7-21.2)           8.7 (-6.2-23.7)           0.39 \n",
       "4  -85.0 (17.3)              -85.0 (17.3)              NA   \n",
       "5  -86.3 (-101.3--68.7)      -83.7 (-98.8--71.2)       0.989\n",
       "6  6.5 (3.5)                 6.5 (3.4)                 NA   \n",
       "7  6.0 (3.0-9.0)             7.0 (4.0-10.0)            0.159\n",
       "8  1,997.5 (1.7)             1,997.5 (1.7)             NA   \n",
       "9  1,997.0 (1,996.0-1,999.0) 1,998.0 (1,996.0-1,999.0) 0.836\n",
       "10 12.0 (12.4)               12.1 (12.4)               NA   \n",
       "11 8.5 (1.5-18.0)            8.5 (1.5-18.5)            0.367\n",
       "12 26.3 (14.8)               26.1 (14.7)               NA   \n",
       "13 23.5 (15.5-34.5)          23.0 (15.0-34.5)          0.116\n",
       "14 72 (0.2%)                 38 (0.3%)                 NA   \n",
       "15 15.3 (9.7)                15.3 (9.7)                NA   \n",
       "16 14.0 (7.5-22.0)           14.5 (7.5-22.0)           0.931\n",
       "17 267.1 (18.9)              267.4 (19.1)              NA   \n",
       "18 264.0 (254.0-276.0)       264.0 (254.0-276.0)       0.186\n",
       "19 985.4 (45.2)              985.4 (45.3)              NA   \n",
       "20 1,000.0 (995.0-1,000.0)   1,000.0 (995.0-1,000.0)   0.971\n",
       "21 296.2 (4.7)               296.2 (4.7)               NA   \n",
       "22 296.9 (294.1-299.2)       296.9 (294.1-299.2)       0.838\n",
       "23 297.9 (4.7)               297.9 (4.8)               NA   \n",
       "24 299.2 (295.5-301.4)       299.2 (295.5-301.4)       0.971\n",
       "25 NA                        NA                        NA   \n",
       "26 NA                        NA                        0    "
      ]
     },
     "metadata": {},
     "output_type": "display_data"
    }
   ],
   "source": [
    "mechkar::train_test(data=nasa,train_name=\"train\",test_name=\"test\",prop=0.7,seed=1,tableone=TRUE)"
   ]
  },
  {
   "cell_type": "markdown",
   "metadata": {},
   "source": [
    "# Models"
   ]
  },
  {
   "cell_type": "code",
   "execution_count": 4,
   "metadata": {},
   "outputs": [],
   "source": [
    "### The error we will use is the RMSE(Root Mean Square Error) and RMSLE (Root Mean Square Logaritmic Error)\n",
    "rmse <- function(y,y_hat) {\n",
    "    err <- sqrt(sum((y_hat-y)^2,na.rm=T)/length(y))\n",
    "    return(err)\n",
    "}\n",
    "\n",
    "rmsle <- function(y,y_hat) {\n",
    "    err <- sqrt(sum((log(y_hat+1)-log(y+1))^2,na.rm=T)/length(y))\n",
    "    return(err)\n",
    "}"
   ]
  },
  {
   "cell_type": "code",
   "execution_count": 5,
   "metadata": {},
   "outputs": [],
   "source": [
    "### Table of resulting errors\n",
    "### Name, Model, RMSE, RMSLE\n",
    "err_res <- NULL"
   ]
  },
  {
   "cell_type": "markdown",
   "metadata": {},
   "source": [
    "# Linear Models"
   ]
  },
  {
   "cell_type": "code",
   "execution_count": 7,
   "metadata": {},
   "outputs": [
    {
     "data": {
      "text/plain": [
       "\n",
       "Call:\n",
       "lm(formula = temperature ~ ., data = train)\n",
       "\n",
       "Residuals:\n",
       "     Min       1Q   Median       3Q      Max \n",
       "-14.4641  -1.1324   0.0089   1.1756  11.6171 \n",
       "\n",
       "Coefficients:\n",
       "              Estimate Std. Error t value Pr(>|t|)    \n",
       "(Intercept) -4.162e+02  1.322e+01 -31.486  < 2e-16 ***\n",
       "lat         -3.613e-02  9.212e-04 -39.221  < 2e-16 ***\n",
       "long         2.978e-03  7.022e-04   4.240 2.24e-05 ***\n",
       "month        1.133e-01  3.254e-03  34.818  < 2e-16 ***\n",
       "year         2.446e-01  6.629e-03  36.898  < 2e-16 ***\n",
       "cloudhigh    2.854e-02  1.320e-03  21.617  < 2e-16 ***\n",
       "cloudlow    -8.341e-02  1.081e-03 -77.187  < 2e-16 ***\n",
       "cloudmid     5.904e-03  1.696e-03   3.482 0.000498 ***\n",
       "ozone       -2.693e-02  8.153e-04 -33.026  < 2e-16 ***\n",
       "pressure     3.386e-02  3.129e-04 108.225  < 2e-16 ***\n",
       "surftemp     6.783e-01  3.011e-03 225.229  < 2e-16 ***\n",
       "---\n",
       "Signif. codes:  0 ‘***’ 0.001 ‘**’ 0.01 ‘*’ 0.05 ‘.’ 0.1 ‘ ’ 1\n",
       "\n",
       "Residual standard error: 1.897 on 28947 degrees of freedom\n",
       "  (72 observations deleted due to missingness)\n",
       "Multiple R-squared:  0.8313,\tAdjusted R-squared:  0.8312 \n",
       "F-statistic: 1.426e+04 on 10 and 28947 DF,  p-value: < 2.2e-16\n"
      ]
     },
     "metadata": {},
     "output_type": "display_data"
    }
   ],
   "source": [
    "## model with only the original variables\n",
    "mod1 <- lm(temperature ~., data=train)\n",
    "summary(mod1)"
   ]
  },
  {
   "cell_type": "code",
   "execution_count": 12,
   "metadata": {},
   "outputs": [
    {
     "data": {
      "text/html": [
       "1.87624079037246"
      ],
      "text/latex": [
       "1.87624079037246"
      ],
      "text/markdown": [
       "1.87624079037246"
      ],
      "text/plain": [
       "[1] 1.876241"
      ]
     },
     "metadata": {},
     "output_type": "display_data"
    },
    {
     "data": {
      "text/html": [
       "0.00633063176317926"
      ],
      "text/latex": [
       "0.00633063176317926"
      ],
      "text/markdown": [
       "0.00633063176317926"
      ],
      "text/plain": [
       "[1] 0.006330632"
      ]
     },
     "metadata": {},
     "output_type": "display_data"
    }
   ],
   "source": [
    "pred1a <- predict(mod1,newdata=test)\n",
    "rmse(test$temperature,pred1a)\n",
    "rmsle(test$temperature,pred1a)\n",
    "err_res <- rbind(err_res, data.frame(Name=\"Base Linear regression\", Model=\"mod1\", \n",
    "                                     RMSE=rmse(test$temperature,pred1a), \n",
    "                                     RMSLE=rmsle(test$temperature,pred1a)))"
   ]
  },
  {
   "cell_type": "code",
   "execution_count": 13,
   "metadata": {},
   "outputs": [
    {
     "data": {
      "text/plain": [
       "\n",
       "Call:\n",
       "lm(formula = temperature ~ ., data = train)\n",
       "\n",
       "Residuals:\n",
       "     Min       1Q   Median       3Q      Max \n",
       "-14.4641  -1.1324   0.0089   1.1756  11.6171 \n",
       "\n",
       "Coefficients:\n",
       "              Estimate Std. Error t value Pr(>|t|)    \n",
       "(Intercept) -4.162e+02  1.322e+01 -31.486  < 2e-16 ***\n",
       "lat         -3.613e-02  9.212e-04 -39.221  < 2e-16 ***\n",
       "long         2.978e-03  7.022e-04   4.240 2.24e-05 ***\n",
       "month        1.133e-01  3.254e-03  34.818  < 2e-16 ***\n",
       "year         2.446e-01  6.629e-03  36.898  < 2e-16 ***\n",
       "cloudhigh    2.854e-02  1.320e-03  21.617  < 2e-16 ***\n",
       "cloudlow    -8.341e-02  1.081e-03 -77.187  < 2e-16 ***\n",
       "cloudmid     5.904e-03  1.696e-03   3.482 0.000498 ***\n",
       "ozone       -2.693e-02  8.153e-04 -33.026  < 2e-16 ***\n",
       "pressure     3.386e-02  3.129e-04 108.225  < 2e-16 ***\n",
       "surftemp     6.783e-01  3.011e-03 225.229  < 2e-16 ***\n",
       "---\n",
       "Signif. codes:  0 ‘***’ 0.001 ‘**’ 0.01 ‘*’ 0.05 ‘.’ 0.1 ‘ ’ 1\n",
       "\n",
       "Residual standard error: 1.897 on 28947 degrees of freedom\n",
       "  (72 observations deleted due to missingness)\n",
       "Multiple R-squared:  0.8313,\tAdjusted R-squared:  0.8312 \n",
       "F-statistic: 1.426e+04 on 10 and 28947 DF,  p-value: < 2.2e-16\n"
      ]
     },
     "metadata": {},
     "output_type": "display_data"
    }
   ],
   "source": [
    "## model with all the variables\n",
    "mod2 <- lm(temperature ~., data=train)\n",
    "summary(mod2)"
   ]
  },
  {
   "cell_type": "code",
   "execution_count": 14,
   "metadata": {},
   "outputs": [
    {
     "data": {
      "text/html": [
       "1.87624079037246"
      ],
      "text/latex": [
       "1.87624079037246"
      ],
      "text/markdown": [
       "1.87624079037246"
      ],
      "text/plain": [
       "[1] 1.876241"
      ]
     },
     "metadata": {},
     "output_type": "display_data"
    },
    {
     "data": {
      "text/html": [
       "0.00633063176317926"
      ],
      "text/latex": [
       "0.00633063176317926"
      ],
      "text/markdown": [
       "0.00633063176317926"
      ],
      "text/plain": [
       "[1] 0.006330632"
      ]
     },
     "metadata": {},
     "output_type": "display_data"
    }
   ],
   "source": [
    "pred2 <- predict(mod2,newdata=test)\n",
    "rmse(test$temperature,pred2)\n",
    "rmsle(test$temperature,pred2)\n",
    "err_res <- rbind(err_res, data.frame(Name=\"Extended Linear regression\", Model=\"mod2\", \n",
    "                                     RMSE=rmse(test$temperature,pred2), \n",
    "                                     RMSLE=rmsle(test$temperature,pred2)))"
   ]
  },
  {
   "cell_type": "markdown",
   "metadata": {},
   "source": [
    "## Desicion trees"
   ]
  },
  {
   "cell_type": "code",
   "execution_count": 15,
   "metadata": {},
   "outputs": [],
   "source": [
    "library(tree)\n",
    "library(rpart)"
   ]
  },
  {
   "cell_type": "code",
   "execution_count": 16,
   "metadata": {},
   "outputs": [
    {
     "data": {
      "text/plain": [
       "node), split, n, deviance, yval\n",
       "      * denotes terminal node\n",
       "\n",
       " 1) root 28958 617400 298.0  \n",
       "   2) surftemp < 292.95 5469 143300 291.8  \n",
       "     4) surftemp < 286.55 937  19400 284.4 *\n",
       "     5) surftemp > 286.55 4532  61550 293.4  \n",
       "      10) lat < 27.4652 3406  39480 294.3  \n",
       "        20) pressure < 817.5 204   3394 286.8 *\n",
       "        21) pressure > 817.5 3202  24050 294.7 *\n",
       "      11) lat > 27.4652 1126  10830 290.6 *\n",
       "   3) surftemp > 292.95 23489 219800 299.4  \n",
       "     6) surftemp < 297.6 11384 105900 297.8  \n",
       "      12) cloudlow < 19.25 4348  36670 299.9  \n",
       "        24) pressure < 947.5 367   6588 294.3 *\n",
       "        25) pressure > 947.5 3981  17410 300.4 *\n",
       "      13) cloudlow > 19.25 7036  38760 296.5  \n",
       "        26) lat < 24.9696 5601  21080 297.1 *\n",
       "        27) lat > 24.9696 1435   9735 294.4 *\n",
       "     7) surftemp > 297.6 12105  59280 300.9  \n",
       "      14) surftemp < 300.3 7100  31020 300.2 *\n",
       "      15) surftemp > 300.3 5005  19890 301.9 *"
      ]
     },
     "metadata": {},
     "output_type": "display_data"
    }
   ],
   "source": [
    "mod3 <- tree(temperature ~., data=train)\n",
    "mod3"
   ]
  },
  {
   "cell_type": "code",
   "execution_count": 17,
   "metadata": {},
   "outputs": [
    {
     "data": {
      "text/html": [
       "2.39436152882152"
      ],
      "text/latex": [
       "2.39436152882152"
      ],
      "text/markdown": [
       "2.39436152882152"
      ],
      "text/plain": [
       "[1] 2.394362"
      ]
     },
     "metadata": {},
     "output_type": "display_data"
    },
    {
     "data": {
      "text/html": [
       "0.00810049749756579"
      ],
      "text/latex": [
       "0.00810049749756579"
      ],
      "text/markdown": [
       "0.00810049749756579"
      ],
      "text/plain": [
       "[1] 0.008100497"
      ]
     },
     "metadata": {},
     "output_type": "display_data"
    }
   ],
   "source": [
    "pred3 <- predict(mod3,newdata=test)\n",
    "rmse(test$temperature,pred3)\n",
    "rmsle(test$temperature,pred3)\n",
    "err_res <- rbind(err_res, data.frame(Name=\"Decision Trees-tree\", Model=\"mod3\", \n",
    "                                     RMSE=rmse(test$temperature,pred3), \n",
    "                                     RMSLE=rmsle(test$temperature,pred3)))"
   ]
  },
  {
   "cell_type": "code",
   "execution_count": 18,
   "metadata": {},
   "outputs": [
    {
     "data": {
      "text/plain": [
       "n= 29030 \n",
       "\n",
       "node), split, n, deviance, yval\n",
       "      * denotes terminal node\n",
       "\n",
       " 1) root 29030 641599.600 297.9206  \n",
       "   2) surftemp< 292.95 5540 154005.200 291.6720  \n",
       "     4) surftemp< 286.55 970  20692.000 284.2220 *\n",
       "     5) surftemp>=286.55 4570  68047.430 293.2533  \n",
       "      10) pressure< 827.5 305   7149.498 286.3538 *\n",
       "      11) pressure>=827.5 4265  45340.460 293.7467  \n",
       "        22) lat>=27.46522 1093   9031.947 290.7864 *\n",
       "        23) lat< 27.46522 3172  23429.110 294.7668 *\n",
       "   3) surftemp>=292.95 23490 220273.600 299.3943  \n",
       "     6) surftemp< 297.6 11385 106333.200 297.8214  \n",
       "      12) cloudlow>=19.25 7037  39111.190 296.5338  \n",
       "        24) lat>=24.96957 1435   9734.760 294.4374 *\n",
       "        25) lat< 24.96957 5602  21454.360 297.0708 *\n",
       "      13) cloudlow< 19.25 4348  36673.800 299.9053  \n",
       "        26) pressure< 947.5 367   6588.420 294.2812 *\n",
       "        27) pressure>=947.5 3981  17406.870 300.4238 *\n",
       "     7) surftemp>=297.6 12105  59284.610 300.8736  \n",
       "      14) surftemp< 300.3 7100  31017.560 300.1749 *\n",
       "      15) surftemp>=300.3 5005  19885.190 301.8647 *"
      ]
     },
     "metadata": {},
     "output_type": "display_data"
    }
   ],
   "source": [
    "mod4 <- rpart(temperature ~., data=train)\n",
    "mod4"
   ]
  },
  {
   "cell_type": "code",
   "execution_count": 19,
   "metadata": {},
   "outputs": [
    {
     "data": {
      "text/html": [
       "2.38892764185036"
      ],
      "text/latex": [
       "2.38892764185036"
      ],
      "text/markdown": [
       "2.38892764185036"
      ],
      "text/plain": [
       "[1] 2.388928"
      ]
     },
     "metadata": {},
     "output_type": "display_data"
    },
    {
     "data": {
      "text/html": [
       "0.00808067126235744"
      ],
      "text/latex": [
       "0.00808067126235744"
      ],
      "text/markdown": [
       "0.00808067126235744"
      ],
      "text/plain": [
       "[1] 0.008080671"
      ]
     },
     "metadata": {},
     "output_type": "display_data"
    }
   ],
   "source": [
    "pred4 <- predict(mod4,newdata=test)\n",
    "rmse(test$temperature,pred4)\n",
    "rmsle(test$temperature,pred4)\n",
    "err_res <- rbind(err_res, data.frame(Name=\"Decision Trees-rpart\", Model=\"mod4\", \n",
    "                                     RMSE=rmse(test$temperature,pred4), \n",
    "                                     RMSLE=rmsle(test$temperature,pred4)))"
   ]
  },
  {
   "cell_type": "markdown",
   "metadata": {},
   "source": [
    "## Random Forest"
   ]
  },
  {
   "cell_type": "code",
   "execution_count": 20,
   "metadata": {},
   "outputs": [
    {
     "name": "stderr",
     "output_type": "stream",
     "text": [
      "randomForest 4.6-14\n",
      "\n",
      "Type rfNews() to see new features/changes/bug fixes.\n",
      "\n",
      "\n",
      "Attaching package: ‘randomForest’\n",
      "\n",
      "\n",
      "The following object is masked from ‘package:dplyr’:\n",
      "\n",
      "    combine\n",
      "\n",
      "\n",
      "\n",
      "Attaching package: ‘ranger’\n",
      "\n",
      "\n",
      "The following object is masked from ‘package:randomForest’:\n",
      "\n",
      "    importance\n",
      "\n",
      "\n"
     ]
    }
   ],
   "source": [
    "#they are equivalent\n",
    "library(randomForest) #not recommended for big data sets\n",
    "library(ranger)"
   ]
  },
  {
   "cell_type": "code",
   "execution_count": 21,
   "metadata": {},
   "outputs": [
    {
     "ename": "ERROR",
     "evalue": "Error: Missing data in columns: cloudlow.\n",
     "output_type": "error",
     "traceback": [
      "Error: Missing data in columns: cloudlow.\nTraceback:\n",
      "1. ranger(temperature ~ ., data = train)",
      "2. stop(\"Missing data in columns: \", paste0(offending_columns, collapse = \", \"), \n .     \".\", call. = FALSE)"
     ]
    }
   ],
   "source": [
    "mod6 <- ranger(temperature ~., data=train)\n",
    "mod6 #drop the missing"
   ]
  },
  {
   "cell_type": "code",
   "execution_count": null,
   "metadata": {},
   "outputs": [],
   "source": [
    "pred6 <- predict(mod6,data=test)\n",
    "#head(pred6)\n",
    "rmse(test$temperature,pred6$predictions)\n",
    "rmsle(test$temperature,pred6$predictions)\n",
    "err_res <- rbind(err_res, data.frame(Name=\"RandomForest (ranger)\", Model=\"mod6\", \n",
    "                                     RMSE=rmse(test$temperature,pred6$predictions), \n",
    "                                     RMSLE=rmsle(test$temperature,pred6$predictions)))"
   ]
  }
 ],
 "metadata": {
  "kernelspec": {
   "display_name": "R",
   "language": "R",
   "name": "ir"
  },
  "language_info": {
   "codemirror_mode": "r",
   "file_extension": ".r",
   "mimetype": "text/x-r-source",
   "name": "R",
   "pygments_lexer": "r",
   "version": "3.6.1"
  }
 },
 "nbformat": 4,
 "nbformat_minor": 2
}
