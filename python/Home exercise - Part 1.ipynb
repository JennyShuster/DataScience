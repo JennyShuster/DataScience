{
 "cells": [
  {
   "cell_type": "markdown",
   "metadata": {},
   "source": [
    "# Exercises for part I - Try it at home"
   ]
  },
  {
   "cell_type": "markdown",
   "metadata": {},
   "source": [
    "## List\n",
    " \n",
    "1. Create a list of numbers from 1 to 10"
   ]
  },
  {
   "cell_type": "code",
   "execution_count": 1,
   "metadata": {},
   "outputs": [],
   "source": [
    "a = list(range(1,11))"
   ]
  },
  {
   "cell_type": "code",
   "execution_count": 2,
   "metadata": {},
   "outputs": [
    {
     "data": {
      "text/plain": [
       "[1, 2, 3, 4, 5, 6, 7, 8, 9, 10]"
      ]
     },
     "execution_count": 2,
     "metadata": {},
     "output_type": "execute_result"
    }
   ],
   "source": [
    "a"
   ]
  },
  {
   "cell_type": "markdown",
   "metadata": {},
   "source": [
    "2. Append to the list the number 20"
   ]
  },
  {
   "cell_type": "code",
   "execution_count": 3,
   "metadata": {},
   "outputs": [],
   "source": [
    "a.append(20)"
   ]
  },
  {
   "cell_type": "code",
   "execution_count": 4,
   "metadata": {},
   "outputs": [
    {
     "data": {
      "text/plain": [
       "[1, 2, 3, 4, 5, 6, 7, 8, 9, 10, 20]"
      ]
     },
     "execution_count": 4,
     "metadata": {},
     "output_type": "execute_result"
    }
   ],
   "source": [
    "a"
   ]
  },
  {
   "cell_type": "markdown",
   "metadata": {},
   "source": [
    "3. Insert two zeros after the fourth place of the list"
   ]
  },
  {
   "cell_type": "code",
   "execution_count": 5,
   "metadata": {},
   "outputs": [],
   "source": [
    "a.insert(4,0)\n",
    "a.insert(4,0)"
   ]
  },
  {
   "cell_type": "code",
   "execution_count": 6,
   "metadata": {},
   "outputs": [
    {
     "data": {
      "text/plain": [
       "[1, 2, 3, 4, 0, 0, 5, 6, 7, 8, 9, 10, 20]"
      ]
     },
     "execution_count": 6,
     "metadata": {},
     "output_type": "execute_result"
    }
   ],
   "source": [
    "a"
   ]
  },
  {
   "cell_type": "markdown",
   "metadata": {},
   "source": [
    "4. Sort the list in reverse order"
   ]
  },
  {
   "cell_type": "code",
   "execution_count": 7,
   "metadata": {},
   "outputs": [],
   "source": [
    "a.sort(reverse=True)"
   ]
  },
  {
   "cell_type": "code",
   "execution_count": 8,
   "metadata": {},
   "outputs": [
    {
     "data": {
      "text/plain": [
       "[20, 10, 9, 8, 7, 6, 5, 4, 3, 2, 1, 0, 0]"
      ]
     },
     "execution_count": 8,
     "metadata": {},
     "output_type": "execute_result"
    }
   ],
   "source": [
    "a"
   ]
  },
  {
   "cell_type": "markdown",
   "metadata": {},
   "source": [
    "5. Remove the last two items from the list"
   ]
  },
  {
   "cell_type": "code",
   "execution_count": 9,
   "metadata": {},
   "outputs": [],
   "source": [
    "a = a[:-2]"
   ]
  },
  {
   "cell_type": "code",
   "execution_count": 10,
   "metadata": {},
   "outputs": [
    {
     "data": {
      "text/plain": [
       "[20, 10, 9, 8, 7, 6, 5, 4, 3, 2, 1]"
      ]
     },
     "execution_count": 10,
     "metadata": {},
     "output_type": "execute_result"
    }
   ],
   "source": [
    "a"
   ]
  },
  {
   "cell_type": "markdown",
   "metadata": {},
   "source": [
    "6. Invert the order of the list"
   ]
  },
  {
   "cell_type": "code",
   "execution_count": 11,
   "metadata": {},
   "outputs": [],
   "source": [
    "a.reverse()"
   ]
  },
  {
   "cell_type": "code",
   "execution_count": 12,
   "metadata": {},
   "outputs": [
    {
     "data": {
      "text/plain": [
       "[1, 2, 3, 4, 5, 6, 7, 8, 9, 10, 20]"
      ]
     },
     "execution_count": 12,
     "metadata": {},
     "output_type": "execute_result"
    }
   ],
   "source": [
    "a"
   ]
  },
  {
   "cell_type": "markdown",
   "metadata": {},
   "source": [
    "7. How many items has the list?"
   ]
  },
  {
   "cell_type": "code",
   "execution_count": 13,
   "metadata": {},
   "outputs": [
    {
     "data": {
      "text/plain": [
       "11"
      ]
     },
     "execution_count": 13,
     "metadata": {},
     "output_type": "execute_result"
    }
   ],
   "source": [
    "len(a)"
   ]
  },
  {
   "cell_type": "markdown",
   "metadata": {},
   "source": [
    "8. Give the minimum, maximum and the sum of all the items in the list"
   ]
  },
  {
   "cell_type": "code",
   "execution_count": 14,
   "metadata": {},
   "outputs": [
    {
     "name": "stdout",
     "output_type": "stream",
     "text": [
      "Minimum : 1\n",
      "Maximum : 20\n",
      "Sum : 75\n"
     ]
    }
   ],
   "source": [
    "print (\"Minimum : %d\\nMaximum : %d\\nSum : %d\" % (min(a), max(a), sum(a)))"
   ]
  },
  {
   "cell_type": "code",
   "execution_count": 15,
   "metadata": {},
   "outputs": [
    {
     "name": "stdout",
     "output_type": "stream",
     "text": [
      "Minimum : 1\n",
      "Maximum : 20\n",
      "Sum : 75\n"
     ]
    }
   ],
   "source": [
    "print (f'Minimum : {min(a)}\\nMaximum : {max(a)}\\nSum : {sum(a)}')"
   ]
  },
  {
   "cell_type": "markdown",
   "metadata": {},
   "source": [
    "9. What will happen if you multiply the list by 2?"
   ]
  },
  {
   "cell_type": "code",
   "execution_count": 16,
   "metadata": {},
   "outputs": [
    {
     "data": {
      "text/plain": [
       "[1, 2, 3, 4, 5, 6, 7, 8, 9, 10, 20, 1, 2, 3, 4, 5, 6, 7, 8, 9, 10, 20]"
      ]
     },
     "execution_count": 16,
     "metadata": {},
     "output_type": "execute_result"
    }
   ],
   "source": [
    "a * 2"
   ]
  },
  {
   "cell_type": "markdown",
   "metadata": {},
   "source": [
    "10. Can you divide the list by 3?"
   ]
  },
  {
   "cell_type": "code",
   "execution_count": 18,
   "metadata": {},
   "outputs": [
    {
     "ename": "TypeError",
     "evalue": "unsupported operand type(s) for /: 'list' and 'int'",
     "output_type": "error",
     "traceback": [
      "\u001b[1;31m---------------------------------------------------------------------------\u001b[0m",
      "\u001b[1;31mTypeError\u001b[0m                                 Traceback (most recent call last)",
      "\u001b[1;32m<ipython-input-18-ec8ab00ab28d>\u001b[0m in \u001b[0;36m<module>\u001b[1;34m\u001b[0m\n\u001b[1;32m----> 1\u001b[1;33m \u001b[0ma\u001b[0m \u001b[1;33m/\u001b[0m \u001b[1;36m3\u001b[0m\u001b[1;33m\u001b[0m\u001b[1;33m\u001b[0m\u001b[0m\n\u001b[0m",
      "\u001b[1;31mTypeError\u001b[0m: unsupported operand type(s) for /: 'list' and 'int'"
     ]
    }
   ],
   "source": [
    "a / 3"
   ]
  },
  {
   "cell_type": "code",
   "execution_count": 19,
   "metadata": {},
   "outputs": [],
   "source": [
    "# no"
   ]
  },
  {
   "cell_type": "markdown",
   "metadata": {},
   "source": [
    "# Tupples\n",
    " \n",
    "1. Create a tupple with three characters and four numbers"
   ]
  },
  {
   "cell_type": "code",
   "execution_count": 20,
   "metadata": {},
   "outputs": [],
   "source": [
    "b = ('A', 'B', '?', 1, 2, 3, 4)"
   ]
  },
  {
   "cell_type": "code",
   "execution_count": 21,
   "metadata": {},
   "outputs": [
    {
     "data": {
      "text/plain": [
       "('A', 'B', '?', 1, 2, 3, 4)"
      ]
     },
     "execution_count": 21,
     "metadata": {},
     "output_type": "execute_result"
    }
   ],
   "source": [
    "b"
   ]
  },
  {
   "cell_type": "markdown",
   "metadata": {},
   "source": [
    "2. Append two booleans (false, true) to the tupple"
   ]
  },
  {
   "cell_type": "code",
   "execution_count": 23,
   "metadata": {},
   "outputs": [],
   "source": [
    "b = b + (False, True)"
   ]
  },
  {
   "cell_type": "code",
   "execution_count": 29,
   "metadata": {},
   "outputs": [
    {
     "data": {
      "text/plain": [
       "('A', 'B', '?', 1, 2, 3, 4, False, True)"
      ]
     },
     "execution_count": 29,
     "metadata": {},
     "output_type": "execute_result"
    }
   ],
   "source": [
    "b"
   ]
  },
  {
   "cell_type": "markdown",
   "metadata": {},
   "source": [
    "3. Retrieve the third to sixth items from the tupple"
   ]
  },
  {
   "cell_type": "code",
   "execution_count": 25,
   "metadata": {},
   "outputs": [
    {
     "data": {
      "text/plain": [
       "('?', 1, 2, 3)"
      ]
     },
     "execution_count": 25,
     "metadata": {},
     "output_type": "execute_result"
    }
   ],
   "source": [
    "b[2:6]"
   ]
  },
  {
   "cell_type": "code",
   "execution_count": 30,
   "metadata": {},
   "outputs": [
    {
     "data": {
      "text/plain": [
       "('A', 'B', '?', 1, 2, 3, 4, False, True)"
      ]
     },
     "execution_count": 30,
     "metadata": {},
     "output_type": "execute_result"
    }
   ],
   "source": [
    "b"
   ]
  },
  {
   "cell_type": "markdown",
   "metadata": {},
   "source": [
    "4. Divide the tupple by data type and create a list for each, then create a muttable tupple using these lists "
   ]
  },
  {
   "cell_type": "code",
   "execution_count": 34,
   "metadata": {},
   "outputs": [],
   "source": [
    "int_list = []\n",
    "str_list = []\n",
    "bool_list = []\n",
    "\n",
    "for w in b:\n",
    "    if(isinstance(w,bool)):\n",
    "        bool_list.append(w)\n",
    "    elif(isinstance(w,str)):\n",
    "        str_list.append(w)\n",
    "    elif(isinstance(w,int)):\n",
    "        int_list.append(w)\n",
    "c = (str_list, int_list, bool_list)\n",
    "        "
   ]
  },
  {
   "cell_type": "code",
   "execution_count": 35,
   "metadata": {},
   "outputs": [
    {
     "name": "stdout",
     "output_type": "stream",
     "text": [
      "str_list: ['A', 'B', '?']\n",
      "int_list: [1, 2, 3, 4]\n",
      "bool_list: [False, True]\n"
     ]
    }
   ],
   "source": [
    "print (f'str_list: {str_list}\\nint_list: {int_list}\\nbool_list: {bool_list}')"
   ]
  },
  {
   "cell_type": "markdown",
   "metadata": {
    "collapsed": true
   },
   "source": [
    "# Sets\n",
    " \n",
    "1. Create a set using the following paragraph:\n",
    " \n",
    "<quote>\n",
    "\"Shallow copy is a bit-wise copy of an object. A new object is created that has an exact copy of the values in the original object\"\n",
    "<quote>\n",
    " \n",
    "Note: Each part of the set must be a word, not a character!"
   ]
  },
  {
   "cell_type": "code",
   "execution_count": 36,
   "metadata": {},
   "outputs": [],
   "source": [
    "original_str = \"Shallow copy is a bit-wise copy of an object. A new object is created that has an exact copy of the values in the original object\"\n"
   ]
  },
  {
   "cell_type": "code",
   "execution_count": 39,
   "metadata": {},
   "outputs": [
    {
     "data": {
      "text/plain": [
       "'Shallow copy is a bit-wise copy of an object. A new object is created that has an exact copy of the values in the original object'"
      ]
     },
     "execution_count": 39,
     "metadata": {},
     "output_type": "execute_result"
    }
   ],
   "source": [
    "original_str"
   ]
  },
  {
   "cell_type": "code",
   "execution_count": 43,
   "metadata": {},
   "outputs": [
    {
     "data": {
      "text/plain": [
       "{'a',\n",
       " 'an',\n",
       " 'bit-wise',\n",
       " 'copy',\n",
       " 'created',\n",
       " 'exact',\n",
       " 'has',\n",
       " 'in',\n",
       " 'is',\n",
       " 'new',\n",
       " 'object',\n",
       " 'of',\n",
       " 'original',\n",
       " 'shallow',\n",
       " 'that',\n",
       " 'the',\n",
       " 'values'}"
      ]
     },
     "execution_count": 43,
     "metadata": {},
     "output_type": "execute_result"
    }
   ],
   "source": [
    "set(original_str.replace(\".\", \"\").lower().split(' '))"
   ]
  },
  {
   "cell_type": "markdown",
   "metadata": {},
   "source": [
    "2. Do you see something wierd in this set? What? How can you prevent that?"
   ]
  },
  {
   "cell_type": "markdown",
   "metadata": {
    "collapsed": true
   },
   "source": [
    "a word with dot is recognized as a different word- we should remove dots  - replace with empty str.\n",
    "\n",
    "A and a is recognized as different words - we should use .lower or .upper."
   ]
  },
  {
   "cell_type": "markdown",
   "metadata": {},
   "source": [
    "# Dictionary\n",
    " \n",
    "1. Generate a dictionary from the following table:\n",
    "\n",
    "<table>\n",
    "    <tr> <th> EmployeeID </th> <th> Name </th> <th> Position </th> <th> Phone </th> </tr>\n",
    "    <tr> <td> 1020 </td> <td> Harry Smith </td> <td> Sales Manager </td> <td> 030-223.65.44 </td> </tr>\n",
    "    <tr> <td> 2201 </td><td> Margaret Holsum </td> <td> Sales Representative </td> <td> 030-223.64.12 </td> </tr>\n",
    "    <tr> <td> 3320 </td><td> Lasly Howard </td> <td> Human Resources </td> <td> 030-223.83.33 </td> </tr>\n",
    "    <tr> <td> 8111 </td><td> Larry Johnson </td> <td> Project Manager </td> <td> 030-224.22.00 </td> </tr>\n",
    "    <tr> <td> 2733 </td><td> Hellen Young </td> <td> Customer Service </td> <td> 030-223.03.20 </td> </tr>\n",
    "</table>\n"
   ]
  },
  {
   "cell_type": "code",
   "execution_count": 2,
   "metadata": {},
   "outputs": [],
   "source": [
    "Employees = {1020:{'Name':'Harry Smith','Position':'Sales Manager','Phone':'030-223.65.44'}\n",
    "            ,2201:{'Name':'Margaret Holsum','Position':'Sales Representative','Phone':'030-223.64.12'}\n",
    "            ,3320:{'Name':'Lasly Howard','Position':'Human Resources','Phone':'030-223.83.33'}\n",
    "            ,8111:{'Name':'Larry Johnson','Position':'Project Manager','Phone':'030-224.22.00'}\n",
    "            ,2733:{'Name':'Hellen Young','Position':'Customer Service','Phone':'030-223.03.20'}}"
   ]
  },
  {
   "cell_type": "code",
   "execution_count": 7,
   "metadata": {},
   "outputs": [
    {
     "data": {
      "text/plain": [
       "{1020: {'Name': 'Harry Smith',\n",
       "  'Position': 'Sales Manager',\n",
       "  'Phone': '030-223.65.44'},\n",
       " 2201: {'Name': 'Margaret Holsum',\n",
       "  'Position': 'Sales Representative',\n",
       "  'Phone': '030-223.64.12'},\n",
       " 3320: {'Name': 'Lasly Howard',\n",
       "  'Position': 'Human Resources',\n",
       "  'Phone': '030-223.83.33'},\n",
       " 8111: {'Name': 'Larry Johnson',\n",
       "  'Position': 'Project Manager',\n",
       "  'Phone': '030-224.22.00'},\n",
       " 2733: {'Name': 'Hellen Young',\n",
       "  'Position': 'Customer Service',\n",
       "  'Phone': '030-223.03.20'}}"
      ]
     },
     "execution_count": 7,
     "metadata": {},
     "output_type": "execute_result"
    }
   ],
   "source": [
    "Employees"
   ]
  },
  {
   "cell_type": "markdown",
   "metadata": {},
   "source": [
    "1. Get all the keys of the dictionary"
   ]
  },
  {
   "cell_type": "code",
   "execution_count": 4,
   "metadata": {},
   "outputs": [
    {
     "data": {
      "text/plain": [
       "dict_keys([1020, 2201, 3320, 8111, 2733])"
      ]
     },
     "execution_count": 4,
     "metadata": {},
     "output_type": "execute_result"
    }
   ],
   "source": [
    "Employees.keys()"
   ]
  },
  {
   "cell_type": "markdown",
   "metadata": {},
   "source": [
    "2. Get all the values of the dictionary"
   ]
  },
  {
   "cell_type": "code",
   "execution_count": 6,
   "metadata": {},
   "outputs": [
    {
     "data": {
      "text/plain": [
       "dict_values([{'Name': 'Harry Smith', 'Position': 'Sales Manager', 'Phone': '030-223.65.44'}, {'Name': 'Margaret Holsum', 'Position': 'Sales Representative', 'Phone': '030-223.64.12'}, {'Name': 'Lasly Howard', 'Position': 'Human Resources', 'Phone': '030-223.83.33'}, {'Name': 'Larry Johnson', 'Position': 'Project Manager', 'Phone': '030-224.22.00'}, {'Name': 'Hellen Young', 'Position': 'Customer Service', 'Phone': '030-223.03.20'}])"
      ]
     },
     "execution_count": 6,
     "metadata": {},
     "output_type": "execute_result"
    }
   ],
   "source": [
    "Employees.values()"
   ]
  },
  {
   "cell_type": "code",
   "execution_count": 12,
   "metadata": {},
   "outputs": [
    {
     "name": "stdout",
     "output_type": "stream",
     "text": [
      "dict_values(['Harry Smith', 'Sales Manager', '030-223.65.44'])\n",
      "dict_values(['Margaret Holsum', 'Sales Representative', '030-223.64.12'])\n",
      "dict_values(['Lasly Howard', 'Human Resources', '030-223.83.33'])\n",
      "dict_values(['Larry Johnson', 'Project Manager', '030-224.22.00'])\n",
      "dict_values(['Hellen Young', 'Customer Service', '030-223.03.20'])\n"
     ]
    },
    {
     "data": {
      "text/plain": [
       "[None, None, None, None, None]"
      ]
     },
     "execution_count": 12,
     "metadata": {},
     "output_type": "execute_result"
    }
   ],
   "source": [
    "[print (value.values()) for key,value in Employees.items()] #get the values of the inner dictionary\n",
    "    "
   ]
  },
  {
   "cell_type": "code",
   "execution_count": 13,
   "metadata": {},
   "outputs": [
    {
     "name": "stdout",
     "output_type": "stream",
     "text": [
      "dict_keys(['Name', 'Position', 'Phone'])\n",
      "dict_keys(['Name', 'Position', 'Phone'])\n",
      "dict_keys(['Name', 'Position', 'Phone'])\n",
      "dict_keys(['Name', 'Position', 'Phone'])\n",
      "dict_keys(['Name', 'Position', 'Phone'])\n"
     ]
    },
    {
     "data": {
      "text/plain": [
       "[None, None, None, None, None]"
      ]
     },
     "execution_count": 13,
     "metadata": {},
     "output_type": "execute_result"
    }
   ],
   "source": [
    "[print (value.keys()) for key,value in Employees.items()] #get the keys of the inner dictionary"
   ]
  },
  {
   "cell_type": "markdown",
   "metadata": {},
   "source": [
    "3. Show the third row of the table by calling the dictionary using the respective EmployeeID"
   ]
  },
  {
   "cell_type": "code",
   "execution_count": 10,
   "metadata": {},
   "outputs": [
    {
     "data": {
      "text/plain": [
       "{'Name': 'Lasly Howard',\n",
       " 'Position': 'Human Resources',\n",
       " 'Phone': '030-223.83.33'}"
      ]
     },
     "execution_count": 10,
     "metadata": {},
     "output_type": "execute_result"
    }
   ],
   "source": [
    "Employees[3320]"
   ]
  },
  {
   "cell_type": "markdown",
   "metadata": {},
   "source": [
    "# Loop programming in python\n",
    " \n",
    "1. Write a script that shows all the primary numbers from 1 to 100. Use for.. loop and if..else"
   ]
  },
  {
   "cell_type": "code",
   "execution_count": 14,
   "metadata": {},
   "outputs": [],
   "source": [
    "def is_primary(n):\n",
    "    res = True\n",
    "\n",
    "    s = range(2,int(n**(0.5)+1))\n",
    "    for l in s:\n",
    "        if n % l != 0:\n",
    "            continue\n",
    "        else:\n",
    "            res = False\n",
    "            break\n",
    "    return res"
   ]
  },
  {
   "cell_type": "code",
   "execution_count": 18,
   "metadata": {},
   "outputs": [
    {
     "data": {
      "text/plain": [
       "True"
      ]
     },
     "execution_count": 18,
     "metadata": {},
     "output_type": "execute_result"
    }
   ],
   "source": [
    "is_primary(13) #check"
   ]
  },
  {
   "cell_type": "code",
   "execution_count": 24,
   "metadata": {},
   "outputs": [
    {
     "data": {
      "text/plain": [
       "['0:True',\n",
       " '1:True',\n",
       " '2:True',\n",
       " '3:True',\n",
       " '4:False',\n",
       " '5:True',\n",
       " '6:False',\n",
       " '7:True',\n",
       " '8:False',\n",
       " '9:False',\n",
       " '10:False',\n",
       " '11:True',\n",
       " '12:False',\n",
       " '13:True',\n",
       " '14:False',\n",
       " '15:False',\n",
       " '16:False',\n",
       " '17:True',\n",
       " '18:False',\n",
       " '19:True',\n",
       " '20:False',\n",
       " '21:False',\n",
       " '22:False',\n",
       " '23:True',\n",
       " '24:False',\n",
       " '25:False',\n",
       " '26:False',\n",
       " '27:False',\n",
       " '28:False',\n",
       " '29:True',\n",
       " '30:False',\n",
       " '31:True',\n",
       " '32:False',\n",
       " '33:False',\n",
       " '34:False',\n",
       " '35:False',\n",
       " '36:False',\n",
       " '37:True',\n",
       " '38:False',\n",
       " '39:False',\n",
       " '40:False',\n",
       " '41:True',\n",
       " '42:False',\n",
       " '43:True',\n",
       " '44:False',\n",
       " '45:False',\n",
       " '46:False',\n",
       " '47:True',\n",
       " '48:False',\n",
       " '49:False',\n",
       " '50:False',\n",
       " '51:False',\n",
       " '52:False',\n",
       " '53:True',\n",
       " '54:False',\n",
       " '55:False',\n",
       " '56:False',\n",
       " '57:False',\n",
       " '58:False',\n",
       " '59:True',\n",
       " '60:False',\n",
       " '61:True',\n",
       " '62:False',\n",
       " '63:False',\n",
       " '64:False',\n",
       " '65:False',\n",
       " '66:False',\n",
       " '67:True',\n",
       " '68:False',\n",
       " '69:False',\n",
       " '70:False',\n",
       " '71:True',\n",
       " '72:False',\n",
       " '73:True',\n",
       " '74:False',\n",
       " '75:False',\n",
       " '76:False',\n",
       " '77:False',\n",
       " '78:False',\n",
       " '79:True',\n",
       " '80:False',\n",
       " '81:False',\n",
       " '82:False',\n",
       " '83:True',\n",
       " '84:False',\n",
       " '85:False',\n",
       " '86:False',\n",
       " '87:False',\n",
       " '88:False',\n",
       " '89:True',\n",
       " '90:False',\n",
       " '91:False',\n",
       " '92:False',\n",
       " '93:False',\n",
       " '94:False',\n",
       " '95:False',\n",
       " '96:False',\n",
       " '97:True',\n",
       " '98:False',\n",
       " '99:False']"
      ]
     },
     "execution_count": 24,
     "metadata": {},
     "output_type": "execute_result"
    }
   ],
   "source": [
    "[f'{x}:{is_primary(x)}' for x in range(100)]"
   ]
  },
  {
   "cell_type": "markdown",
   "metadata": {},
   "source": [
    "2. Write a different solution to the problem in the last question, but using while.. in place of for.."
   ]
  },
  {
   "cell_type": "code",
   "execution_count": 38,
   "metadata": {},
   "outputs": [],
   "source": [
    "def is_primary_while(n):\n",
    "    res = True\n",
    "    l = 2\n",
    "    \n",
    "    while (l < int(n**(0.5)+1)):\n",
    "        if n % l != 0:\n",
    "            l = l + 1\n",
    "        else:\n",
    "            res = False\n",
    "            break\n",
    "    return res"
   ]
  },
  {
   "cell_type": "code",
   "execution_count": 39,
   "metadata": {},
   "outputs": [
    {
     "data": {
      "text/plain": [
       "['0:True',\n",
       " '1:True',\n",
       " '2:True',\n",
       " '3:True',\n",
       " '4:False',\n",
       " '5:True',\n",
       " '6:False',\n",
       " '7:True',\n",
       " '8:False',\n",
       " '9:False',\n",
       " '10:False',\n",
       " '11:True',\n",
       " '12:False',\n",
       " '13:True',\n",
       " '14:False',\n",
       " '15:False',\n",
       " '16:False',\n",
       " '17:True',\n",
       " '18:False',\n",
       " '19:True',\n",
       " '20:False',\n",
       " '21:False',\n",
       " '22:False',\n",
       " '23:True',\n",
       " '24:False',\n",
       " '25:False',\n",
       " '26:False',\n",
       " '27:False',\n",
       " '28:False',\n",
       " '29:True',\n",
       " '30:False',\n",
       " '31:True',\n",
       " '32:False',\n",
       " '33:False',\n",
       " '34:False',\n",
       " '35:False',\n",
       " '36:False',\n",
       " '37:True',\n",
       " '38:False',\n",
       " '39:False',\n",
       " '40:False',\n",
       " '41:True',\n",
       " '42:False',\n",
       " '43:True',\n",
       " '44:False',\n",
       " '45:False',\n",
       " '46:False',\n",
       " '47:True',\n",
       " '48:False',\n",
       " '49:False',\n",
       " '50:False',\n",
       " '51:False',\n",
       " '52:False',\n",
       " '53:True',\n",
       " '54:False',\n",
       " '55:False',\n",
       " '56:False',\n",
       " '57:False',\n",
       " '58:False',\n",
       " '59:True',\n",
       " '60:False',\n",
       " '61:True',\n",
       " '62:False',\n",
       " '63:False',\n",
       " '64:False',\n",
       " '65:False',\n",
       " '66:False',\n",
       " '67:True',\n",
       " '68:False',\n",
       " '69:False',\n",
       " '70:False',\n",
       " '71:True',\n",
       " '72:False',\n",
       " '73:True',\n",
       " '74:False',\n",
       " '75:False',\n",
       " '76:False',\n",
       " '77:False',\n",
       " '78:False',\n",
       " '79:True',\n",
       " '80:False',\n",
       " '81:False',\n",
       " '82:False',\n",
       " '83:True',\n",
       " '84:False',\n",
       " '85:False',\n",
       " '86:False',\n",
       " '87:False',\n",
       " '88:False',\n",
       " '89:True',\n",
       " '90:False',\n",
       " '91:False',\n",
       " '92:False',\n",
       " '93:False',\n",
       " '94:False',\n",
       " '95:False',\n",
       " '96:False',\n",
       " '97:True',\n",
       " '98:False',\n",
       " '99:False']"
      ]
     },
     "execution_count": 39,
     "metadata": {},
     "output_type": "execute_result"
    }
   ],
   "source": [
    "[f'{x}:{is_primary_while(x)}' for x in range(100)]"
   ]
  },
  {
   "cell_type": "code",
   "execution_count": null,
   "metadata": {},
   "outputs": [],
   "source": []
  }
 ],
 "metadata": {
  "kernelspec": {
   "display_name": "Python 3",
   "language": "python",
   "name": "python3"
  },
  "language_info": {
   "codemirror_mode": {
    "name": "ipython",
    "version": 3
   },
   "file_extension": ".py",
   "mimetype": "text/x-python",
   "name": "python",
   "nbconvert_exporter": "python",
   "pygments_lexer": "ipython3",
   "version": "3.7.3"
  }
 },
 "nbformat": 4,
 "nbformat_minor": 2
}
