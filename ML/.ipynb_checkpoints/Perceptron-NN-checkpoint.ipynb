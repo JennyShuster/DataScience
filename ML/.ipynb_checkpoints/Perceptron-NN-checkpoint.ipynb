{
 "cells": [
  {
   "cell_type": "markdown",
   "metadata": {},
   "source": [
    "# Perceptron"
   ]
  },
  {
   "cell_type": "code",
   "execution_count": 1,
   "metadata": {},
   "outputs": [],
   "source": [
    "import numpy as np\n",
    "import pandas as pd"
   ]
  },
  {
   "cell_type": "code",
   "execution_count": 2,
   "metadata": {},
   "outputs": [],
   "source": [
    "class Perceptron:\n",
    "    def __init__(self,X): \n",
    "        self.X = np.array(X)\n",
    "        self.weights = []\n",
    "    ## calculate weights\n",
    "    def getWeights(self,X):\n",
    "        return([np.random.rand(len(X))])\n",
    "    ## transfer function\n",
    "    def transfer(self,X,weights):\n",
    "        return(np.sum(self.X * weights))\n",
    "    ## activation function\n",
    "    def activate(self,Xt):\n",
    "        if(Xt > 1):\n",
    "            return(1)\n",
    "        else:\n",
    "            return(-1)\n"
   ]
  },
  {
   "cell_type": "markdown",
   "metadata": {},
   "source": [
    "We will run an example iteratively"
   ]
  },
  {
   "cell_type": "code",
   "execution_count": 3,
   "metadata": {},
   "outputs": [
    {
     "name": "stdout",
     "output_type": "stream",
     "text": [
      "-1\n",
      "-1\n",
      "1\n",
      "-1\n",
      "1\n",
      "-1\n",
      "-1\n",
      "1\n",
      "-1\n",
      "-1\n",
      "1\n",
      "1\n",
      "-1\n",
      "-1\n",
      "-1\n",
      "-1\n",
      "1\n",
      "-1\n",
      "1\n",
      "1\n",
      "1\n",
      "1\n",
      "1\n",
      "1\n",
      "1\n"
     ]
    }
   ],
   "source": [
    "for i in range(0,5):\n",
    "    for j in range(0,5):\n",
    "        X = [i,j]\n",
    "        p1 = Perceptron(X)\n",
    "        w = p1.getWeights(X)\n",
    "        t = p1.transfer(X,weights=w)\n",
    "        print(p1.activate(t))\n"
   ]
  },
  {
   "cell_type": "markdown",
   "metadata": {},
   "source": [
    "### Converting the Perceptron to a Supervise Learning Algorithm"
   ]
  },
  {
   "cell_type": "code",
   "execution_count": 4,
   "metadata": {},
   "outputs": [],
   "source": [
    "## loss_function\n",
    "def loss_function(y, y_hat):\n",
    "    return(np.sum((y - y_hat)**2)/len(y) )"
   ]
  },
  {
   "cell_type": "code",
   "execution_count": 5,
   "metadata": {},
   "outputs": [],
   "source": [
    "def grad(X,y,yhat):\n",
    "    n = len(y)    \n",
    "    return((1 / n) * np.dot((yhat - y),X))\n",
    "\n",
    "#np.dot((yhat-y),X0)"
   ]
  },
  {
   "cell_type": "code",
   "execution_count": 6,
   "metadata": {},
   "outputs": [],
   "source": [
    "def gradientDesc(X,y,learn_rate=1e-6,max_iter=1e3):\n",
    "    conv_threshold = 1e-4\n",
    "    n = X.ndim\n",
    "    w = np.random.rand(n+1) #an extra weight for the intercept\n",
    "    X = pd.DataFrame({'X0':1,'X':X}) #X0 is the intercept, that's why its coefficient will be 1.\n",
    "    #X will be the matrix of all other variables.\n",
    "    yhat = np.dot(X,w)\n",
    "    cost = loss_function(y,yhat)\n",
    "    converged = False\n",
    "    iterations = 0\n",
    "    while(converged == False):\n",
    "        ## Implement the gradient descent algorithm\n",
    "        w_new = w - (np.array(learn_rate) * grad(X,y,yhat))\n",
    "        w = w_new\n",
    "        yhat = np.dot(X,w)\n",
    "        cost_new = loss_function(y,yhat)\n",
    "        if(iterations % 100 == 0):\n",
    "            print(\"%s,%s\" % (iterations,cost_new))\n",
    "        if(cost - cost_new <= conv_threshold):\n",
    "            converged = True\n",
    "            return(w)\n",
    "        iterations = iterations + 1\n",
    "        if(iterations > max_iter):\n",
    "            converged = True\n",
    "            return(w)\n"
   ]
  },
  {
   "cell_type": "code",
   "execution_count": 7,
   "metadata": {},
   "outputs": [],
   "source": [
    "class Perceptron:\n",
    "    def __init__(self,X,y):\n",
    "        self.X = np.array(X)\n",
    "        self.y = np.array(y)\n",
    "        self.weights = []\n",
    "    ## calculate weights\n",
    "    def getWeights(self,X,y):\n",
    "        return(gradientDesc(X,y,learn_rate=0.0001)) #instead of getting random weights as we did before, now we use gradient descent.\n",
    "    ## transfer function\n",
    "    def transfer(self,X,weights):\n",
    "        df = pd.DataFrame({'X0':1,'X':X})\n",
    "        X0 = np.array(df)\n",
    "        return(np.dot(X0,w))\n",
    "    ## activation function: in this case we will use a linear function f(x) = x\n",
    "    def activate(self,y_hat):\n",
    "        return(y_hat)\n"
   ]
  },
  {
   "cell_type": "markdown",
   "metadata": {},
   "source": [
    "Now we will define a dataset"
   ]
  },
  {
   "cell_type": "code",
   "execution_count": 8,
   "metadata": {},
   "outputs": [
    {
     "data": {
      "text/html": [
       "<div>\n",
       "<style scoped>\n",
       "    .dataframe tbody tr th:only-of-type {\n",
       "        vertical-align: middle;\n",
       "    }\n",
       "\n",
       "    .dataframe tbody tr th {\n",
       "        vertical-align: top;\n",
       "    }\n",
       "\n",
       "    .dataframe thead th {\n",
       "        text-align: right;\n",
       "    }\n",
       "</style>\n",
       "<table border=\"1\" class=\"dataframe\">\n",
       "  <thead>\n",
       "    <tr style=\"text-align: right;\">\n",
       "      <th></th>\n",
       "      <th>X</th>\n",
       "      <th>y</th>\n",
       "    </tr>\n",
       "  </thead>\n",
       "  <tbody>\n",
       "    <tr>\n",
       "      <td>0</td>\n",
       "      <td>10</td>\n",
       "      <td>1</td>\n",
       "    </tr>\n",
       "    <tr>\n",
       "      <td>1</td>\n",
       "      <td>20</td>\n",
       "      <td>2</td>\n",
       "    </tr>\n",
       "    <tr>\n",
       "      <td>2</td>\n",
       "      <td>30</td>\n",
       "      <td>3</td>\n",
       "    </tr>\n",
       "    <tr>\n",
       "      <td>3</td>\n",
       "      <td>40</td>\n",
       "      <td>4</td>\n",
       "    </tr>\n",
       "    <tr>\n",
       "      <td>4</td>\n",
       "      <td>50</td>\n",
       "      <td>5</td>\n",
       "    </tr>\n",
       "  </tbody>\n",
       "</table>\n",
       "</div>"
      ],
      "text/plain": [
       "    X  y\n",
       "0  10  1\n",
       "1  20  2\n",
       "2  30  3\n",
       "3  40  4\n",
       "4  50  5"
      ]
     },
     "execution_count": 8,
     "metadata": {},
     "output_type": "execute_result"
    }
   ],
   "source": [
    "df = pd.DataFrame({'X':[10,20,30,40,50,20,30,20,30,50,60,40,30,20,10],\n",
    "                   'y':[1,2,3,4,5,2,3,2,3,5,6,4,3,2,1]})\n",
    "df.head()"
   ]
  },
  {
   "cell_type": "code",
   "execution_count": 9,
   "metadata": {},
   "outputs": [],
   "source": [
    "X = df.X\n",
    "y = df.y"
   ]
  },
  {
   "cell_type": "markdown",
   "metadata": {},
   "source": [
    "and will run the perceptron on this data"
   ]
  },
  {
   "cell_type": "code",
   "execution_count": 10,
   "metadata": {},
   "outputs": [
    {
     "name": "stdout",
     "output_type": "stream",
     "text": [
      "0,707.1500495192192\n",
      "100,9.73086005414583e-07\n",
      "200,9.513445434345369e-07\n",
      "300,9.479312064586306e-07\n",
      "400,9.445301162230739e-07\n",
      "500,9.411412287875604e-07\n",
      "600,9.377645003696819e-07\n",
      "700,9.343998873432857e-07\n",
      "800,9.310473462398157e-07\n",
      "900,9.277068337464618e-07\n",
      "1000,9.243783067055421e-07\n",
      "[0.99833929 1.99894571 2.99955213 4.00015855 5.00076497 1.99894571\n",
      " 2.99955213 1.99894571 2.99955213 5.00076497 6.00137139 4.00015855\n",
      " 2.99955213 1.99894571 0.99833929]\n"
     ]
    }
   ],
   "source": [
    "p1 = Perceptron(X,y)\n",
    "w = p1.getWeights(X,y)\n",
    "y_hat = p1.transfer(X,w)\n",
    "print(p1.activate(y_hat))"
   ]
  },
  {
   "cell_type": "code",
   "execution_count": 11,
   "metadata": {},
   "outputs": [
    {
     "data": {
      "text/plain": [
       "(array([1, 2, 3, 4, 5, 2, 3, 2, 3, 5, 6, 4, 3, 2, 1]),\n",
       " array([0.99833929, 1.99894571, 2.99955213, 4.00015855, 5.00076497,\n",
       "        1.99894571, 2.99955213, 1.99894571, 2.99955213, 5.00076497,\n",
       "        6.00137139, 4.00015855, 2.99955213, 1.99894571, 0.99833929]))"
      ]
     },
     "execution_count": 11,
     "metadata": {},
     "output_type": "execute_result"
    }
   ],
   "source": [
    "(np.array(y),p1.activate(y_hat))"
   ]
  }
 ],
 "metadata": {
  "kernelspec": {
   "display_name": "Python 3",
   "language": "python",
   "name": "python3"
  },
  "language_info": {
   "codemirror_mode": {
    "name": "ipython",
    "version": 3
   },
   "file_extension": ".py",
   "mimetype": "text/x-python",
   "name": "python",
   "nbconvert_exporter": "python",
   "pygments_lexer": "ipython3",
   "version": "3.6.8"
  }
 },
 "nbformat": 4,
 "nbformat_minor": 2
}
